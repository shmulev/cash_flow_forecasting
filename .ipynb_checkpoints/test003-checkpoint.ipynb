{
 "cells": [
  {
   "cell_type": "code",
   "execution_count": 1,
   "metadata": {},
   "outputs": [
    {
     "data": {
      "text/html": [
       "<div>\n",
       "<style>\n",
       "    .dataframe thead tr:only-child th {\n",
       "        text-align: right;\n",
       "    }\n",
       "\n",
       "    .dataframe thead th {\n",
       "        text-align: left;\n",
       "    }\n",
       "\n",
       "    .dataframe tbody tr th {\n",
       "        vertical-align: top;\n",
       "    }\n",
       "</style>\n",
       "<table border=\"1\" class=\"dataframe\">\n",
       "  <thead>\n",
       "    <tr style=\"text-align: right;\">\n",
       "      <th></th>\n",
       "      <th>GJAHR</th>\n",
       "      <th>H_BUDAT</th>\n",
       "      <th>H_BLDAT</th>\n",
       "      <th>VALUT</th>\n",
       "      <th>DMBTR</th>\n",
       "      <th>H_HWAER</th>\n",
       "      <th>WRBTR</th>\n",
       "      <th>H_WAERS</th>\n",
       "      <th>MATNR</th>\n",
       "      <th>MENGE</th>\n",
       "      <th>MEINS</th>\n",
       "      <th>WERKS</th>\n",
       "    </tr>\n",
       "  </thead>\n",
       "  <tbody>\n",
       "    <tr>\n",
       "      <th>0</th>\n",
       "      <td>2016</td>\n",
       "      <td>2016-01-02</td>\n",
       "      <td>2016-01-02</td>\n",
       "      <td>2016-01-12</td>\n",
       "      <td>7046897.45</td>\n",
       "      <td>RUB</td>\n",
       "      <td>107387.84</td>\n",
       "      <td>USD</td>\n",
       "      <td>S_0102100_0001</td>\n",
       "      <td>427.84</td>\n",
       "      <td>TO</td>\n",
       "      <td>1012</td>\n",
       "    </tr>\n",
       "    <tr>\n",
       "      <th>1</th>\n",
       "      <td>2016</td>\n",
       "      <td>2016-01-02</td>\n",
       "      <td>2016-01-02</td>\n",
       "      <td>2016-01-12</td>\n",
       "      <td>4104541.05</td>\n",
       "      <td>RUB</td>\n",
       "      <td>62549.20</td>\n",
       "      <td>USD</td>\n",
       "      <td>S_0102100_0002</td>\n",
       "      <td>249.20</td>\n",
       "      <td>TO</td>\n",
       "      <td>1012</td>\n",
       "    </tr>\n",
       "    <tr>\n",
       "      <th>2</th>\n",
       "      <td>2016</td>\n",
       "      <td>2016-01-02</td>\n",
       "      <td>2016-01-02</td>\n",
       "      <td>2016-01-12</td>\n",
       "      <td>651619.15</td>\n",
       "      <td>RUB</td>\n",
       "      <td>9930.04</td>\n",
       "      <td>USD</td>\n",
       "      <td>S_0102100_0359</td>\n",
       "      <td>34.36</td>\n",
       "      <td>TO</td>\n",
       "      <td>1012</td>\n",
       "    </tr>\n",
       "    <tr>\n",
       "      <th>3</th>\n",
       "      <td>2016</td>\n",
       "      <td>2016-01-02</td>\n",
       "      <td>2016-01-02</td>\n",
       "      <td>2016-01-12</td>\n",
       "      <td>7046897.45</td>\n",
       "      <td>RUB</td>\n",
       "      <td>107387.84</td>\n",
       "      <td>USD</td>\n",
       "      <td>S_0102100_0001</td>\n",
       "      <td>427.84</td>\n",
       "      <td>TO</td>\n",
       "      <td>1012</td>\n",
       "    </tr>\n",
       "    <tr>\n",
       "      <th>4</th>\n",
       "      <td>2016</td>\n",
       "      <td>2016-01-02</td>\n",
       "      <td>2016-01-02</td>\n",
       "      <td>2016-01-12</td>\n",
       "      <td>4104541.05</td>\n",
       "      <td>RUB</td>\n",
       "      <td>62549.20</td>\n",
       "      <td>USD</td>\n",
       "      <td>S_0102100_0002</td>\n",
       "      <td>249.20</td>\n",
       "      <td>TO</td>\n",
       "      <td>1012</td>\n",
       "    </tr>\n",
       "  </tbody>\n",
       "</table>\n",
       "</div>"
      ],
      "text/plain": [
       "   GJAHR    H_BUDAT    H_BLDAT      VALUT       DMBTR H_HWAER      WRBTR  \\\n",
       "0   2016 2016-01-02 2016-01-02 2016-01-12  7046897.45     RUB  107387.84   \n",
       "1   2016 2016-01-02 2016-01-02 2016-01-12  4104541.05     RUB   62549.20   \n",
       "2   2016 2016-01-02 2016-01-02 2016-01-12   651619.15     RUB    9930.04   \n",
       "3   2016 2016-01-02 2016-01-02 2016-01-12  7046897.45     RUB  107387.84   \n",
       "4   2016 2016-01-02 2016-01-02 2016-01-12  4104541.05     RUB   62549.20   \n",
       "\n",
       "  H_WAERS           MATNR   MENGE MEINS  WERKS  \n",
       "0     USD  S_0102100_0001  427.84    TO   1012  \n",
       "1     USD  S_0102100_0002  249.20    TO   1012  \n",
       "2     USD  S_0102100_0359   34.36    TO   1012  \n",
       "3     USD  S_0102100_0001  427.84    TO   1012  \n",
       "4     USD  S_0102100_0002  249.20    TO   1012  "
      ]
     },
     "execution_count": 1,
     "metadata": {},
     "output_type": "execute_result"
    }
   ],
   "source": [
    "import pandas as pd\n",
    "\n",
    "dateparser = lambda x: pd.datetime.strptime(x, '%d.%m.%Y')\n",
    "\n",
    "bseg = pd.read_csv(\"BSEG_15_16_17.txt\", delim_whitespace=True, parse_dates=['H_BUDAT', 'H_BLDAT', 'VALUT'], \n",
    "                   date_parser=dateparser, thousands='.', decimal=',')\n",
    "bseg.head()"
   ]
  },
  {
   "cell_type": "code",
   "execution_count": 2,
   "metadata": {},
   "outputs": [
    {
     "name": "stdout",
     "output_type": "stream",
     "text": [
      "<class 'pandas.core.frame.DataFrame'>\n",
      "RangeIndex: 15000 entries, 0 to 14999\n",
      "Data columns (total 12 columns):\n",
      "GJAHR      15000 non-null int64\n",
      "H_BUDAT    15000 non-null datetime64[ns]\n",
      "H_BLDAT    15000 non-null datetime64[ns]\n",
      "VALUT      15000 non-null datetime64[ns]\n",
      "DMBTR      15000 non-null float64\n",
      "H_HWAER    15000 non-null object\n",
      "WRBTR      15000 non-null float64\n",
      "H_WAERS    15000 non-null object\n",
      "MATNR      15000 non-null object\n",
      "MENGE      15000 non-null float64\n",
      "MEINS      15000 non-null object\n",
      "WERKS      15000 non-null int64\n",
      "dtypes: datetime64[ns](3), float64(3), int64(2), object(4)\n",
      "memory usage: 1.4+ MB\n"
     ]
    }
   ],
   "source": [
    "bseg.info()"
   ]
  },
  {
   "cell_type": "code",
   "execution_count": 3,
   "metadata": {},
   "outputs": [
    {
     "data": {
      "text/html": [
       "<div>\n",
       "<style>\n",
       "    .dataframe thead tr:only-child th {\n",
       "        text-align: right;\n",
       "    }\n",
       "\n",
       "    .dataframe thead th {\n",
       "        text-align: left;\n",
       "    }\n",
       "\n",
       "    .dataframe tbody tr th {\n",
       "        vertical-align: top;\n",
       "    }\n",
       "</style>\n",
       "<table border=\"1\" class=\"dataframe\">\n",
       "  <thead>\n",
       "    <tr style=\"text-align: right;\">\n",
       "      <th></th>\n",
       "      <th>GJAHR</th>\n",
       "      <th>DMBTR</th>\n",
       "      <th>WRBTR</th>\n",
       "      <th>MENGE</th>\n",
       "      <th>WERKS</th>\n",
       "    </tr>\n",
       "  </thead>\n",
       "  <tbody>\n",
       "    <tr>\n",
       "      <th>count</th>\n",
       "      <td>15000.000000</td>\n",
       "      <td>1.500000e+04</td>\n",
       "      <td>1.500000e+04</td>\n",
       "      <td>15000.000000</td>\n",
       "      <td>15000.0</td>\n",
       "    </tr>\n",
       "    <tr>\n",
       "      <th>mean</th>\n",
       "      <td>2015.699400</td>\n",
       "      <td>1.824313e+07</td>\n",
       "      <td>2.794661e+05</td>\n",
       "      <td>905.141454</td>\n",
       "      <td>1012.0</td>\n",
       "    </tr>\n",
       "    <tr>\n",
       "      <th>std</th>\n",
       "      <td>0.662522</td>\n",
       "      <td>2.993478e+07</td>\n",
       "      <td>4.767607e+05</td>\n",
       "      <td>1522.021686</td>\n",
       "      <td>0.0</td>\n",
       "    </tr>\n",
       "    <tr>\n",
       "      <th>min</th>\n",
       "      <td>2015.000000</td>\n",
       "      <td>2.327813e+04</td>\n",
       "      <td>3.136800e+02</td>\n",
       "      <td>4.800000</td>\n",
       "      <td>1012.0</td>\n",
       "    </tr>\n",
       "    <tr>\n",
       "      <th>25%</th>\n",
       "      <td>2015.000000</td>\n",
       "      <td>3.062245e+06</td>\n",
       "      <td>4.408701e+04</td>\n",
       "      <td>139.440000</td>\n",
       "      <td>1012.0</td>\n",
       "    </tr>\n",
       "    <tr>\n",
       "      <th>50%</th>\n",
       "      <td>2016.000000</td>\n",
       "      <td>1.130077e+07</td>\n",
       "      <td>1.651195e+05</td>\n",
       "      <td>586.840000</td>\n",
       "      <td>1012.0</td>\n",
       "    </tr>\n",
       "    <tr>\n",
       "      <th>75%</th>\n",
       "      <td>2016.000000</td>\n",
       "      <td>2.350033e+07</td>\n",
       "      <td>3.591740e+05</td>\n",
       "      <td>1226.565000</td>\n",
       "      <td>1012.0</td>\n",
       "    </tr>\n",
       "    <tr>\n",
       "      <th>max</th>\n",
       "      <td>2017.000000</td>\n",
       "      <td>6.357054e+08</td>\n",
       "      <td>1.002273e+07</td>\n",
       "      <td>32465.890000</td>\n",
       "      <td>1012.0</td>\n",
       "    </tr>\n",
       "  </tbody>\n",
       "</table>\n",
       "</div>"
      ],
      "text/plain": [
       "              GJAHR         DMBTR         WRBTR         MENGE    WERKS\n",
       "count  15000.000000  1.500000e+04  1.500000e+04  15000.000000  15000.0\n",
       "mean    2015.699400  1.824313e+07  2.794661e+05    905.141454   1012.0\n",
       "std        0.662522  2.993478e+07  4.767607e+05   1522.021686      0.0\n",
       "min     2015.000000  2.327813e+04  3.136800e+02      4.800000   1012.0\n",
       "25%     2015.000000  3.062245e+06  4.408701e+04    139.440000   1012.0\n",
       "50%     2016.000000  1.130077e+07  1.651195e+05    586.840000   1012.0\n",
       "75%     2016.000000  2.350033e+07  3.591740e+05   1226.565000   1012.0\n",
       "max     2017.000000  6.357054e+08  1.002273e+07  32465.890000   1012.0"
      ]
     },
     "execution_count": 3,
     "metadata": {},
     "output_type": "execute_result"
    }
   ],
   "source": [
    "bseg.describe()"
   ]
  },
  {
   "cell_type": "code",
   "execution_count": 4,
   "metadata": {},
   "outputs": [
    {
     "data": {
      "text/html": [
       "<div>\n",
       "<style>\n",
       "    .dataframe thead tr:only-child th {\n",
       "        text-align: right;\n",
       "    }\n",
       "\n",
       "    .dataframe thead th {\n",
       "        text-align: left;\n",
       "    }\n",
       "\n",
       "    .dataframe tbody tr th {\n",
       "        vertical-align: top;\n",
       "    }\n",
       "</style>\n",
       "<table border=\"1\" class=\"dataframe\">\n",
       "  <thead>\n",
       "    <tr style=\"text-align: right;\">\n",
       "      <th></th>\n",
       "      <th>VALUT</th>\n",
       "      <th>DMBTR</th>\n",
       "    </tr>\n",
       "  </thead>\n",
       "  <tbody>\n",
       "    <tr>\n",
       "      <th>0</th>\n",
       "      <td>2016-01-12</td>\n",
       "      <td>7046897.45</td>\n",
       "    </tr>\n",
       "    <tr>\n",
       "      <th>1</th>\n",
       "      <td>2016-01-12</td>\n",
       "      <td>4104541.05</td>\n",
       "    </tr>\n",
       "    <tr>\n",
       "      <th>2</th>\n",
       "      <td>2016-01-12</td>\n",
       "      <td>651619.15</td>\n",
       "    </tr>\n",
       "    <tr>\n",
       "      <th>3</th>\n",
       "      <td>2016-01-12</td>\n",
       "      <td>7046897.45</td>\n",
       "    </tr>\n",
       "    <tr>\n",
       "      <th>4</th>\n",
       "      <td>2016-01-12</td>\n",
       "      <td>4104541.05</td>\n",
       "    </tr>\n",
       "  </tbody>\n",
       "</table>\n",
       "</div>"
      ],
      "text/plain": [
       "       VALUT       DMBTR\n",
       "0 2016-01-12  7046897.45\n",
       "1 2016-01-12  4104541.05\n",
       "2 2016-01-12   651619.15\n",
       "3 2016-01-12  7046897.45\n",
       "4 2016-01-12  4104541.05"
      ]
     },
     "execution_count": 4,
     "metadata": {},
     "output_type": "execute_result"
    }
   ],
   "source": [
    "cash = bseg.drop([\"H_BUDAT\", \"H_BLDAT\", \"H_HWAER\", \"WRBTR\", \"H_WAERS\", \"MATNR\", \"MENGE\", \"MEINS\", \"WERKS\", \"GJAHR\"], axis=1)\n",
    "cash.head()"
   ]
  },
  {
   "cell_type": "code",
   "execution_count": 5,
   "metadata": {},
   "outputs": [
    {
     "data": {
      "text/html": [
       "<div>\n",
       "<style>\n",
       "    .dataframe thead tr:only-child th {\n",
       "        text-align: right;\n",
       "    }\n",
       "\n",
       "    .dataframe thead th {\n",
       "        text-align: left;\n",
       "    }\n",
       "\n",
       "    .dataframe tbody tr th {\n",
       "        vertical-align: top;\n",
       "    }\n",
       "</style>\n",
       "<table border=\"1\" class=\"dataframe\">\n",
       "  <thead>\n",
       "    <tr style=\"text-align: right;\">\n",
       "      <th></th>\n",
       "      <th>VALUT</th>\n",
       "      <th>DMBTR</th>\n",
       "    </tr>\n",
       "  </thead>\n",
       "  <tbody>\n",
       "    <tr>\n",
       "      <th>0</th>\n",
       "      <td>2015-01-16</td>\n",
       "      <td>1.016207e+09</td>\n",
       "    </tr>\n",
       "    <tr>\n",
       "      <th>1</th>\n",
       "      <td>2015-01-19</td>\n",
       "      <td>1.365947e+09</td>\n",
       "    </tr>\n",
       "    <tr>\n",
       "      <th>2</th>\n",
       "      <td>2015-01-20</td>\n",
       "      <td>1.361941e+09</td>\n",
       "    </tr>\n",
       "    <tr>\n",
       "      <th>3</th>\n",
       "      <td>2015-01-23</td>\n",
       "      <td>3.806104e+08</td>\n",
       "    </tr>\n",
       "    <tr>\n",
       "      <th>4</th>\n",
       "      <td>2015-01-26</td>\n",
       "      <td>5.298301e+08</td>\n",
       "    </tr>\n",
       "  </tbody>\n",
       "</table>\n",
       "</div>"
      ],
      "text/plain": [
       "       VALUT         DMBTR\n",
       "0 2015-01-16  1.016207e+09\n",
       "1 2015-01-19  1.365947e+09\n",
       "2 2015-01-20  1.361941e+09\n",
       "3 2015-01-23  3.806104e+08\n",
       "4 2015-01-26  5.298301e+08"
      ]
     },
     "execution_count": 5,
     "metadata": {},
     "output_type": "execute_result"
    }
   ],
   "source": [
    "byday = cash.groupby('VALUT').sum().reset_index()\n",
    "byday.head()"
   ]
  },
  {
   "cell_type": "code",
   "execution_count": null,
   "metadata": {
    "collapsed": true
   },
   "outputs": [],
   "source": []
  },
  {
   "cell_type": "code",
   "execution_count": 6,
   "metadata": {
    "collapsed": true
   },
   "outputs": [],
   "source": [
    "%matplotlib inline\n",
    "import matplotlib\n",
    "import matplotlib.pyplot as plt\n",
    "plt.rcParams['axes.labelsize'] = 14\n",
    "plt.rcParams['xtick.labelsize'] = 12\n",
    "plt.rcParams['ytick.labelsize'] = 12"
   ]
  },
  {
   "cell_type": "code",
   "execution_count": 7,
   "metadata": {},
   "outputs": [
    {
     "data": {
      "text/html": [
       "<div>\n",
       "<style>\n",
       "    .dataframe thead tr:only-child th {\n",
       "        text-align: right;\n",
       "    }\n",
       "\n",
       "    .dataframe thead th {\n",
       "        text-align: left;\n",
       "    }\n",
       "\n",
       "    .dataframe tbody tr th {\n",
       "        vertical-align: top;\n",
       "    }\n",
       "</style>\n",
       "<table border=\"1\" class=\"dataframe\">\n",
       "  <thead>\n",
       "    <tr style=\"text-align: right;\">\n",
       "      <th></th>\n",
       "      <th>DMBTR</th>\n",
       "    </tr>\n",
       "  </thead>\n",
       "  <tbody>\n",
       "    <tr>\n",
       "      <th>count</th>\n",
       "      <td>3.960000e+02</td>\n",
       "    </tr>\n",
       "    <tr>\n",
       "      <th>mean</th>\n",
       "      <td>6.910278e+08</td>\n",
       "    </tr>\n",
       "    <tr>\n",
       "      <th>std</th>\n",
       "      <td>6.103512e+08</td>\n",
       "    </tr>\n",
       "    <tr>\n",
       "      <th>min</th>\n",
       "      <td>3.907132e+05</td>\n",
       "    </tr>\n",
       "    <tr>\n",
       "      <th>25%</th>\n",
       "      <td>1.518954e+08</td>\n",
       "    </tr>\n",
       "    <tr>\n",
       "      <th>50%</th>\n",
       "      <td>6.232036e+08</td>\n",
       "    </tr>\n",
       "    <tr>\n",
       "      <th>75%</th>\n",
       "      <td>1.017591e+09</td>\n",
       "    </tr>\n",
       "    <tr>\n",
       "      <th>max</th>\n",
       "      <td>4.128079e+09</td>\n",
       "    </tr>\n",
       "  </tbody>\n",
       "</table>\n",
       "</div>"
      ],
      "text/plain": [
       "              DMBTR\n",
       "count  3.960000e+02\n",
       "mean   6.910278e+08\n",
       "std    6.103512e+08\n",
       "min    3.907132e+05\n",
       "25%    1.518954e+08\n",
       "50%    6.232036e+08\n",
       "75%    1.017591e+09\n",
       "max    4.128079e+09"
      ]
     },
     "execution_count": 7,
     "metadata": {},
     "output_type": "execute_result"
    }
   ],
   "source": [
    "byday.describe()"
   ]
  },
  {
   "cell_type": "code",
   "execution_count": 8,
   "metadata": {},
   "outputs": [
    {
     "data": {
      "text/plain": [
       "<matplotlib.axes._subplots.AxesSubplot at 0x285456b0cc0>"
      ]
     },
     "execution_count": 8,
     "metadata": {},
     "output_type": "execute_result"
    },
    {
     "data": {
      "image/png": "[encoded data removed]",
      "text/plain": [
       "<matplotlib.figure.Figure at 0x285456b0278>"
      ]
     },
     "metadata": {},
     "output_type": "display_data"
    }
   ],
   "source": [
    "byday.plot(x='VALUT', y='DMBTR')"
   ]
  },
  {
   "cell_type": "code",
   "execution_count": 9,
   "metadata": {},
   "outputs": [
    {
     "name": "stdout",
     "output_type": "stream",
     "text": [
      "<class 'pandas.core.frame.DataFrame'>\n",
      "RangeIndex: 396 entries, 0 to 395\n",
      "Data columns (total 2 columns):\n",
      "VALUT    396 non-null datetime64[ns]\n",
      "DMBTR    396 non-null float64\n",
      "dtypes: datetime64[ns](1), float64(1)\n",
      "memory usage: 6.3 KB\n"
     ]
    }
   ],
   "source": [
    "byday.info()"
   ]
  },
  {
   "cell_type": "code",
   "execution_count": 10,
   "metadata": {},
   "outputs": [
    {
     "data": {
      "text/plain": [
       "<matplotlib.axes._subplots.AxesSubplot at 0x28545b2a320>"
      ]
     },
     "execution_count": 10,
     "metadata": {},
     "output_type": "execute_result"
    },
    {
     "data": {
      "image/png": "[encoded data removed]",
      "text/plain": [
       "<matplotlib.figure.Figure at 0x28545bf42e8>"
      ]
     },
     "metadata": {},
     "output_type": "display_data"
    }
   ],
   "source": [
    "from matplotlib import pyplot\n",
    "from pandas.plotting import autocorrelation_plot\n",
    "series = byday.DMBTR.T.squeeze()\n",
    "autocorrelation_plot(series)"
   ]
  },
  {
   "cell_type": "code",
   "execution_count": 21,
   "metadata": {},
   "outputs": [
    {
     "data": {
      "text/plain": [
       "<matplotlib.axes._subplots.AxesSubplot at 0x285475fdac8>"
      ]
     },
     "execution_count": 21,
     "metadata": {},
     "output_type": "execute_result"
    },
    {
     "data": {
      "image/png": "[encoded data removed]",
      "text/plain": [
       "<matplotlib.figure.Figure at 0x28547652780>"
      ]
     },
     "metadata": {},
     "output_type": "display_data"
    }
   ],
   "source": [
    "autocorrelation_plot(byday.DMBTR)"
   ]
  },
  {
   "cell_type": "code",
   "execution_count": 11,
   "metadata": {},
   "outputs": [
    {
     "name": "stderr",
     "output_type": "stream",
     "text": [
      "C:\\Users\\Yaroslav\\Anaconda3\\lib\\site-packages\\statsmodels\\compat\\pandas.py:56: FutureWarning: The pandas.core.datetools module is deprecated and will be removed in a future version. Please use the pandas.tseries module instead.\n",
      "  from pandas.core import datetools\n"
     ]
    },
    {
     "data": {
      "image/png": "[encoded data removed]",
      "text/plain": [
       "<matplotlib.figure.Figure at 0x285444c4da0>"
      ]
     },
     "execution_count": 11,
     "metadata": {},
     "output_type": "execute_result"
    },
    {
     "data": {
      "image/png": "[encoded data removed]",
      "text/plain": [
       "<matplotlib.figure.Figure at 0x285444c4da0>"
      ]
     },
     "metadata": {},
     "output_type": "display_data"
    }
   ],
   "source": [
    "from statsmodels.graphics.tsaplots import plot_acf\n",
    "plot_acf(series, lags=50)"
   ]
  },
  {
   "cell_type": "code",
   "execution_count": 12,
   "metadata": {},
   "outputs": [
    {
     "data": {
      "image/png": "[encoded data removed]",
      "text/plain": [
       "<matplotlib.figure.Figure at 0x28545c1cc88>"
      ]
     },
     "execution_count": 12,
     "metadata": {},
     "output_type": "execute_result"
    },
    {
     "data": {
      "image/png": "[encoded data removed]",
      "text/plain": [
       "<matplotlib.figure.Figure at 0x28545c1cc88>"
      ]
     },
     "metadata": {},
     "output_type": "display_data"
    }
   ],
   "source": [
    "from statsmodels.graphics.tsaplots import plot_pacf\n",
    "plot_pacf(series, lags=50)"
   ]
  },
  {
   "cell_type": "code",
   "execution_count": null,
   "metadata": {
    "collapsed": true
   },
   "outputs": [],
   "source": []
  }
 ],
 "metadata": {
  "kernelspec": {
   "display_name": "Python 3",
   "language": "python",
   "name": "python3"
  },
  "language_info": {
   "codemirror_mode": {
    "name": "ipython",
    "version": 3
   },
   "file_extension": ".py",
   "mimetype": "text/x-python",
   "name": "python",
   "nbconvert_exporter": "python",
   "pygments_lexer": "ipython3",
   "version": "3.6.1"
  }
 },
 "nbformat": 4,
 "nbformat_minor": 2
}
