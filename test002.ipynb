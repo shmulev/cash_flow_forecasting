{
 "cells": [
  {
   "cell_type": "code",
   "execution_count": 1,
   "metadata": {
    "collapsed": true
   },
   "outputs": [],
   "source": [
    "import pandas as pd\n",
    "import numpy as np\n",
    "import seaborn as sns\n",
    "\n",
    "import matplotlib.pyplot as plt\n",
    "%matplotlib inline"
   ]
  },
  {
   "cell_type": "code",
   "execution_count": 2,
   "metadata": {},
   "outputs": [
    {
     "name": "stdout",
     "output_type": "stream",
     "text": [
      "(7548, 13)\n",
      "(6984, 13)\n"
     ]
    }
   ],
   "source": [
    "dateparser = lambda x: pd.datetime.strptime(x, '%d.%m.%Y')\n",
    "\n",
    "bseg = pd.read_csv(\"14\\BSEG_15_16_17_internal_market.txt\", delim_whitespace=True, dtype = {'HKONT': str, 'MENGE': float},\n",
    "                       parse_dates=['H_BUDAT', 'H_BLDAT', 'VALUT'], date_parser=dateparser, thousands='.', decimal=',')\n",
    "print(bseg.shape)\n",
    "bseg.drop_duplicates(subset=['VALUT','DMBTR'],inplace=True)\n",
    "print(bseg.shape)"
   ]
  },
  {
   "cell_type": "code",
   "execution_count": 3,
   "metadata": {},
   "outputs": [
    {
     "name": "stdout",
     "output_type": "stream",
     "text": [
      "<class 'pandas.core.frame.DataFrame'>\n",
      "Int64Index: 6984 entries, 0 to 7545\n",
      "Data columns (total 13 columns):\n",
      "H_BUDAT    6984 non-null datetime64[ns]\n",
      "H_BLDAT    6984 non-null datetime64[ns]\n",
      "VALUT      6984 non-null datetime64[ns]\n",
      "DMBTR      6984 non-null float64\n",
      "H_HWAER    6984 non-null object\n",
      "WRBTR      6984 non-null float64\n",
      "H_WAERS    6984 non-null object\n",
      "MATNR      6984 non-null object\n",
      "MENGE      6984 non-null float64\n",
      "MEINS      3606 non-null object\n",
      "WERKS      3606 non-null float64\n",
      "GJAHR      3606 non-null float64\n",
      "HKONT      3606 non-null object\n",
      "dtypes: datetime64[ns](3), float64(5), object(5)\n",
      "memory usage: 763.9+ KB\n"
     ]
    }
   ],
   "source": [
    "bseg.info()"
   ]
  },
  {
   "cell_type": "code",
   "execution_count": 4,
   "metadata": {
    "collapsed": true
   },
   "outputs": [],
   "source": [
    "bseg_cleared = bseg.drop(['MEINS','H_HWAER','WRBTR','H_WAERS','WERKS'], axis=1, inplace=False)"
   ]
  },
  {
   "cell_type": "code",
   "execution_count": 5,
   "metadata": {},
   "outputs": [
    {
     "data": {
      "text/html": [
       "<div>\n",
       "<style>\n",
       "    .dataframe thead tr:only-child th {\n",
       "        text-align: right;\n",
       "    }\n",
       "\n",
       "    .dataframe thead th {\n",
       "        text-align: left;\n",
       "    }\n",
       "\n",
       "    .dataframe tbody tr th {\n",
       "        vertical-align: top;\n",
       "    }\n",
       "</style>\n",
       "<table border=\"1\" class=\"dataframe\">\n",
       "  <thead>\n",
       "    <tr style=\"text-align: right;\">\n",
       "      <th></th>\n",
       "      <th>H_BUDAT</th>\n",
       "      <th>H_BLDAT</th>\n",
       "      <th>VALUT</th>\n",
       "      <th>DMBTR</th>\n",
       "      <th>MATNR</th>\n",
       "      <th>MENGE</th>\n",
       "      <th>GJAHR</th>\n",
       "      <th>HKONT</th>\n",
       "    </tr>\n",
       "  </thead>\n",
       "  <tbody>\n",
       "    <tr>\n",
       "      <th>0</th>\n",
       "      <td>2017-01-08</td>\n",
       "      <td>2017-01-08</td>\n",
       "      <td>2017-01-09</td>\n",
       "      <td>28604580.48</td>\n",
       "      <td>S_0102100_0392</td>\n",
       "      <td>1.000720e+03</td>\n",
       "      <td>2017.0</td>\n",
       "      <td>9011010100</td>\n",
       "    </tr>\n",
       "    <tr>\n",
       "      <th>1</th>\n",
       "      <td>2017-01-08</td>\n",
       "      <td>2017-01-08</td>\n",
       "      <td>2017-01-09</td>\n",
       "      <td>5148824.55</td>\n",
       "      <td>2017</td>\n",
       "      <td>9.011010e+09</td>\n",
       "      <td>NaN</td>\n",
       "      <td>NaN</td>\n",
       "    </tr>\n",
       "    <tr>\n",
       "      <th>2</th>\n",
       "      <td>2017-01-08</td>\n",
       "      <td>2017-01-08</td>\n",
       "      <td>2017-01-09</td>\n",
       "      <td>1357747.80</td>\n",
       "      <td>S_0102100_0568</td>\n",
       "      <td>3.977000e+01</td>\n",
       "      <td>2017.0</td>\n",
       "      <td>9011010100</td>\n",
       "    </tr>\n",
       "    <tr>\n",
       "      <th>3</th>\n",
       "      <td>2017-01-08</td>\n",
       "      <td>2017-01-08</td>\n",
       "      <td>2017-01-09</td>\n",
       "      <td>244394.60</td>\n",
       "      <td>2017</td>\n",
       "      <td>9.011010e+09</td>\n",
       "      <td>NaN</td>\n",
       "      <td>NaN</td>\n",
       "    </tr>\n",
       "    <tr>\n",
       "      <th>4</th>\n",
       "      <td>2017-01-08</td>\n",
       "      <td>2017-01-08</td>\n",
       "      <td>2017-01-09</td>\n",
       "      <td>680299.20</td>\n",
       "      <td>S_0102100_0392</td>\n",
       "      <td>2.380000e+01</td>\n",
       "      <td>2017.0</td>\n",
       "      <td>9011010100</td>\n",
       "    </tr>\n",
       "  </tbody>\n",
       "</table>\n",
       "</div>"
      ],
      "text/plain": [
       "     H_BUDAT    H_BLDAT      VALUT        DMBTR           MATNR         MENGE  \\\n",
       "0 2017-01-08 2017-01-08 2017-01-09  28604580.48  S_0102100_0392  1.000720e+03   \n",
       "1 2017-01-08 2017-01-08 2017-01-09   5148824.55            2017  9.011010e+09   \n",
       "2 2017-01-08 2017-01-08 2017-01-09   1357747.80  S_0102100_0568  3.977000e+01   \n",
       "3 2017-01-08 2017-01-08 2017-01-09    244394.60            2017  9.011010e+09   \n",
       "4 2017-01-08 2017-01-08 2017-01-09    680299.20  S_0102100_0392  2.380000e+01   \n",
       "\n",
       "    GJAHR       HKONT  \n",
       "0  2017.0  9011010100  \n",
       "1     NaN         NaN  \n",
       "2  2017.0  9011010100  \n",
       "3     NaN         NaN  \n",
       "4  2017.0  9011010100  "
      ]
     },
     "execution_count": 5,
     "metadata": {},
     "output_type": "execute_result"
    }
   ],
   "source": [
    "bseg_cleared.head()"
   ]
  },
  {
   "cell_type": "markdown",
   "metadata": {},
   "source": [
    "Data without VAT:"
   ]
  },
  {
   "cell_type": "code",
   "execution_count": 6,
   "metadata": {
    "collapsed": true
   },
   "outputs": [],
   "source": [
    "bseg_wh_nds = bseg_cleared[bseg_cleared.MENGE != 9011010101].copy()"
   ]
  },
  {
   "cell_type": "code",
   "execution_count": 7,
   "metadata": {},
   "outputs": [
    {
     "data": {
      "text/html": [
       "<div>\n",
       "<style>\n",
       "    .dataframe thead tr:only-child th {\n",
       "        text-align: right;\n",
       "    }\n",
       "\n",
       "    .dataframe thead th {\n",
       "        text-align: left;\n",
       "    }\n",
       "\n",
       "    .dataframe tbody tr th {\n",
       "        vertical-align: top;\n",
       "    }\n",
       "</style>\n",
       "<table border=\"1\" class=\"dataframe\">\n",
       "  <thead>\n",
       "    <tr style=\"text-align: right;\">\n",
       "      <th></th>\n",
       "      <th>H_BUDAT</th>\n",
       "      <th>H_BLDAT</th>\n",
       "      <th>VALUT</th>\n",
       "      <th>DMBTR</th>\n",
       "      <th>MATNR</th>\n",
       "      <th>MENGE</th>\n",
       "      <th>GJAHR</th>\n",
       "    </tr>\n",
       "  </thead>\n",
       "  <tbody>\n",
       "    <tr>\n",
       "      <th>0</th>\n",
       "      <td>2017-01-08</td>\n",
       "      <td>2017-01-08</td>\n",
       "      <td>2017-01-09</td>\n",
       "      <td>28604580.48</td>\n",
       "      <td>S_0102100_0392</td>\n",
       "      <td>1000.72</td>\n",
       "      <td>2017.0</td>\n",
       "    </tr>\n",
       "    <tr>\n",
       "      <th>2</th>\n",
       "      <td>2017-01-08</td>\n",
       "      <td>2017-01-08</td>\n",
       "      <td>2017-01-09</td>\n",
       "      <td>1357747.80</td>\n",
       "      <td>S_0102100_0568</td>\n",
       "      <td>39.77</td>\n",
       "      <td>2017.0</td>\n",
       "    </tr>\n",
       "    <tr>\n",
       "      <th>4</th>\n",
       "      <td>2017-01-08</td>\n",
       "      <td>2017-01-08</td>\n",
       "      <td>2017-01-09</td>\n",
       "      <td>680299.20</td>\n",
       "      <td>S_0102100_0392</td>\n",
       "      <td>23.80</td>\n",
       "      <td>2017.0</td>\n",
       "    </tr>\n",
       "    <tr>\n",
       "      <th>6</th>\n",
       "      <td>2017-01-08</td>\n",
       "      <td>2017-01-08</td>\n",
       "      <td>2017-01-09</td>\n",
       "      <td>1362885.12</td>\n",
       "      <td>S_0102100_0392</td>\n",
       "      <td>47.68</td>\n",
       "      <td>2017.0</td>\n",
       "    </tr>\n",
       "    <tr>\n",
       "      <th>8</th>\n",
       "      <td>2017-01-08</td>\n",
       "      <td>2017-01-08</td>\n",
       "      <td>2017-01-09</td>\n",
       "      <td>316365.07</td>\n",
       "      <td>S_0102100_0445</td>\n",
       "      <td>11.41</td>\n",
       "      <td>2017.0</td>\n",
       "    </tr>\n",
       "  </tbody>\n",
       "</table>\n",
       "</div>"
      ],
      "text/plain": [
       "     H_BUDAT    H_BLDAT      VALUT        DMBTR           MATNR    MENGE  \\\n",
       "0 2017-01-08 2017-01-08 2017-01-09  28604580.48  S_0102100_0392  1000.72   \n",
       "2 2017-01-08 2017-01-08 2017-01-09   1357747.80  S_0102100_0568    39.77   \n",
       "4 2017-01-08 2017-01-08 2017-01-09    680299.20  S_0102100_0392    23.80   \n",
       "6 2017-01-08 2017-01-08 2017-01-09   1362885.12  S_0102100_0392    47.68   \n",
       "8 2017-01-08 2017-01-08 2017-01-09    316365.07  S_0102100_0445    11.41   \n",
       "\n",
       "    GJAHR  \n",
       "0  2017.0  \n",
       "2  2017.0  \n",
       "4  2017.0  \n",
       "6  2017.0  \n",
       "8  2017.0  "
      ]
     },
     "execution_count": 7,
     "metadata": {},
     "output_type": "execute_result"
    }
   ],
   "source": [
    "bseg_wh_nds.drop(['HKONT'], axis=1, inplace=True)\n",
    "bseg_wh_nds.head()"
   ]
  },
  {
   "cell_type": "code",
   "execution_count": 8,
   "metadata": {
    "collapsed": true
   },
   "outputs": [],
   "source": [
    "bseg_wh_nds['VALUT_DAY'] = [full_data.day for full_data in bseg_wh_nds.VALUT]\n",
    "bseg_wh_nds['VALUT_MONTH'] = [full_data.month for full_data in bseg_wh_nds.VALUT]\n",
    "bseg_wh_nds['VALUT_YEAR'] = [full_data.year for full_data in bseg_wh_nds.VALUT]"
   ]
  },
  {
   "cell_type": "code",
   "execution_count": 9,
   "metadata": {
    "collapsed": true
   },
   "outputs": [],
   "source": [
    "data = bseg_wh_nds[['VALUT','VALUT_DAY','VALUT_MONTH','VALUT_YEAR', 'DMBTR','MATNR', 'MENGE', 'GJAHR']].copy().reset_index()"
   ]
  },
  {
   "cell_type": "code",
   "execution_count": 10,
   "metadata": {
    "collapsed": true
   },
   "outputs": [],
   "source": [
    "data.drop(['index'], axis=1, inplace=True)"
   ]
  },
  {
   "cell_type": "markdown",
   "metadata": {},
   "source": [
    "## Let's look at plots:"
   ]
  },
  {
   "cell_type": "markdown",
   "metadata": {},
   "source": [
    "\n",
    "\n",
    "\n",
    "## By days:"
   ]
  },
  {
   "cell_type": "code",
   "execution_count": 11,
   "metadata": {
    "collapsed": true
   },
   "outputs": [],
   "source": [
    "cash = data[['VALUT','VALUT_DAY','VALUT_MONTH','VALUT_YEAR', 'DMBTR']].copy()"
   ]
  },
  {
   "cell_type": "code",
   "execution_count": 12,
   "metadata": {
    "collapsed": true
   },
   "outputs": [],
   "source": [
    "byday = cash.groupby(by=['VALUT','VALUT_MONTH', 'VALUT_YEAR', 'VALUT_DAY']).sum().reset_index()"
   ]
  },
  {
   "cell_type": "code",
   "execution_count": 13,
   "metadata": {},
   "outputs": [
    {
     "data": {
      "text/html": [
       "<div>\n",
       "<style>\n",
       "    .dataframe thead tr:only-child th {\n",
       "        text-align: right;\n",
       "    }\n",
       "\n",
       "    .dataframe thead th {\n",
       "        text-align: left;\n",
       "    }\n",
       "\n",
       "    .dataframe tbody tr th {\n",
       "        vertical-align: top;\n",
       "    }\n",
       "</style>\n",
       "<table border=\"1\" class=\"dataframe\">\n",
       "  <thead>\n",
       "    <tr style=\"text-align: right;\">\n",
       "      <th></th>\n",
       "      <th>VALUT</th>\n",
       "      <th>VALUT_MONTH</th>\n",
       "      <th>VALUT_YEAR</th>\n",
       "      <th>VALUT_DAY</th>\n",
       "      <th>DMBTR</th>\n",
       "    </tr>\n",
       "  </thead>\n",
       "  <tbody>\n",
       "    <tr>\n",
       "      <th>0</th>\n",
       "      <td>2015-01-04</td>\n",
       "      <td>1</td>\n",
       "      <td>2015</td>\n",
       "      <td>4</td>\n",
       "      <td>2.204765e+07</td>\n",
       "    </tr>\n",
       "    <tr>\n",
       "      <th>1</th>\n",
       "      <td>2015-01-13</td>\n",
       "      <td>1</td>\n",
       "      <td>2015</td>\n",
       "      <td>13</td>\n",
       "      <td>1.313837e+09</td>\n",
       "    </tr>\n",
       "    <tr>\n",
       "      <th>2</th>\n",
       "      <td>2015-01-14</td>\n",
       "      <td>1</td>\n",
       "      <td>2015</td>\n",
       "      <td>14</td>\n",
       "      <td>1.126478e+08</td>\n",
       "    </tr>\n",
       "    <tr>\n",
       "      <th>3</th>\n",
       "      <td>2015-01-15</td>\n",
       "      <td>1</td>\n",
       "      <td>2015</td>\n",
       "      <td>15</td>\n",
       "      <td>1.160271e+08</td>\n",
       "    </tr>\n",
       "    <tr>\n",
       "      <th>4</th>\n",
       "      <td>2015-01-22</td>\n",
       "      <td>1</td>\n",
       "      <td>2015</td>\n",
       "      <td>22</td>\n",
       "      <td>1.175343e+08</td>\n",
       "    </tr>\n",
       "  </tbody>\n",
       "</table>\n",
       "</div>"
      ],
      "text/plain": [
       "       VALUT  VALUT_MONTH  VALUT_YEAR  VALUT_DAY         DMBTR\n",
       "0 2015-01-04            1        2015          4  2.204765e+07\n",
       "1 2015-01-13            1        2015         13  1.313837e+09\n",
       "2 2015-01-14            1        2015         14  1.126478e+08\n",
       "3 2015-01-15            1        2015         15  1.160271e+08\n",
       "4 2015-01-22            1        2015         22  1.175343e+08"
      ]
     },
     "execution_count": 13,
     "metadata": {},
     "output_type": "execute_result"
    }
   ],
   "source": [
    "byday.head()"
   ]
  },
  {
   "cell_type": "code",
   "execution_count": 14,
   "metadata": {},
   "outputs": [
    {
     "data": {
      "text/plain": [
       "[<matplotlib.lines.Line2D at 0x1d8883a9b00>]"
      ]
     },
     "execution_count": 14,
     "metadata": {},
     "output_type": "execute_result"
    },
    {
     "data": {
      "image/png": "[encoded data removed]",
      "text/plain": [
       "<matplotlib.figure.Figure at 0x1d88721fc18>"
      ]
     },
     "metadata": {},
     "output_type": "display_data"
    }
   ],
   "source": [
    "plt.plot(data['VALUT'], data['DMBTR'], 'r.')"
   ]
  },
  {
   "cell_type": "code",
   "execution_count": 15,
   "metadata": {},
   "outputs": [
    {
     "data": {
      "text/plain": [
       "<seaborn.axisgrid.FacetGrid at 0x1d888b04710>"
      ]
     },
     "execution_count": 15,
     "metadata": {},
     "output_type": "execute_result"
    },
    {
     "data": {
      "image/png": "[encoded data removed]",
      "text/plain": [
       "<matplotlib.figure.Figure at 0x1d88864f1d0>"
      ]
     },
     "metadata": {},
     "output_type": "display_data"
    }
   ],
   "source": [
    "g = sns.factorplot(x=\"VALUT_DAY\", y=\"DMBTR\", data=byday, hue='VALUT_YEAR',\n",
    "                   size=6, kind=\"bar\", palette=\"muted\")\n",
    "g.despine(left=True)\n",
    "g.set_ylabels(\"Cash\")"
   ]
  },
  {
   "cell_type": "markdown",
   "metadata": {},
   "source": [
    "## By month"
   ]
  },
  {
   "cell_type": "code",
   "execution_count": 16,
   "metadata": {
    "collapsed": true
   },
   "outputs": [],
   "source": [
    "bymonth = cash.groupby(by=['VALUT_MONTH', 'VALUT_YEAR']).sum().reset_index()"
   ]
  },
  {
   "cell_type": "code",
   "execution_count": 17,
   "metadata": {},
   "outputs": [
    {
     "data": {
      "text/html": [
       "<div>\n",
       "<style>\n",
       "    .dataframe thead tr:only-child th {\n",
       "        text-align: right;\n",
       "    }\n",
       "\n",
       "    .dataframe thead th {\n",
       "        text-align: left;\n",
       "    }\n",
       "\n",
       "    .dataframe tbody tr th {\n",
       "        vertical-align: top;\n",
       "    }\n",
       "</style>\n",
       "<table border=\"1\" class=\"dataframe\">\n",
       "  <thead>\n",
       "    <tr style=\"text-align: right;\">\n",
       "      <th></th>\n",
       "      <th>VALUT_MONTH</th>\n",
       "      <th>VALUT_YEAR</th>\n",
       "      <th>VALUT_DAY</th>\n",
       "      <th>DMBTR</th>\n",
       "    </tr>\n",
       "  </thead>\n",
       "  <tbody>\n",
       "    <tr>\n",
       "      <th>0</th>\n",
       "      <td>1</td>\n",
       "      <td>2015</td>\n",
       "      <td>3698</td>\n",
       "      <td>2.113848e+09</td>\n",
       "    </tr>\n",
       "    <tr>\n",
       "      <th>1</th>\n",
       "      <td>1</td>\n",
       "      <td>2016</td>\n",
       "      <td>2053</td>\n",
       "      <td>2.157970e+09</td>\n",
       "    </tr>\n",
       "    <tr>\n",
       "      <th>2</th>\n",
       "      <td>1</td>\n",
       "      <td>2017</td>\n",
       "      <td>2994</td>\n",
       "      <td>2.456724e+09</td>\n",
       "    </tr>\n",
       "    <tr>\n",
       "      <th>3</th>\n",
       "      <td>2</td>\n",
       "      <td>2015</td>\n",
       "      <td>2460</td>\n",
       "      <td>2.330552e+09</td>\n",
       "    </tr>\n",
       "    <tr>\n",
       "      <th>4</th>\n",
       "      <td>2</td>\n",
       "      <td>2016</td>\n",
       "      <td>1981</td>\n",
       "      <td>2.270065e+09</td>\n",
       "    </tr>\n",
       "  </tbody>\n",
       "</table>\n",
       "</div>"
      ],
      "text/plain": [
       "   VALUT_MONTH  VALUT_YEAR  VALUT_DAY         DMBTR\n",
       "0            1        2015       3698  2.113848e+09\n",
       "1            1        2016       2053  2.157970e+09\n",
       "2            1        2017       2994  2.456724e+09\n",
       "3            2        2015       2460  2.330552e+09\n",
       "4            2        2016       1981  2.270065e+09"
      ]
     },
     "execution_count": 17,
     "metadata": {},
     "output_type": "execute_result"
    }
   ],
   "source": [
    "bymonth.head()"
   ]
  },
  {
   "cell_type": "code",
   "execution_count": 18,
   "metadata": {},
   "outputs": [
    {
     "data": {
      "text/plain": [
       "<seaborn.axisgrid.FacetGrid at 0x1d88879c668>"
      ]
     },
     "execution_count": 18,
     "metadata": {},
     "output_type": "execute_result"
    },
    {
     "data": {
      "image/png": "[encoded data removed]",
      "text/plain": [
       "<matplotlib.figure.Figure at 0x1d88879ce80>"
      ]
     },
     "metadata": {},
     "output_type": "display_data"
    }
   ],
   "source": [
    "g = sns.factorplot(x=\"VALUT_MONTH\", y=\"DMBTR\", data=byday, hue='VALUT_YEAR',\n",
    "                   size=6, kind=\"bar\", palette=\"muted\")\n",
    "g.despine(left=True)\n",
    "g.set_ylabels(\"Cash\")"
   ]
  },
  {
   "cell_type": "code",
   "execution_count": 40,
   "metadata": {},
   "outputs": [
    {
     "data": {
      "text/plain": [
       "count    2.800000e+01\n",
       "mean     2.035559e+09\n",
       "std      7.447068e+08\n",
       "min      2.360597e+06\n",
       "25%      1.671058e+09\n",
       "50%      2.135567e+09\n",
       "75%      2.471889e+09\n",
       "max      3.191741e+09\n",
       "Name: DMBTR, dtype: float64"
      ]
     },
     "execution_count": 40,
     "metadata": {},
     "output_type": "execute_result"
    }
   ],
   "source": [
    "series = pd.Series(data=bymonth.DMBTR)\n",
    "series.describe()"
   ]
  },
  {
   "cell_type": "code",
   "execution_count": 41,
   "metadata": {},
   "outputs": [
    {
     "data": {
      "text/plain": [
       "<matplotlib.axes._subplots.AxesSubplot at 0x1d8893ecbe0>"
      ]
     },
     "execution_count": 41,
     "metadata": {},
     "output_type": "execute_result"
    },
    {
     "data": {
      "image/png": "[encoded data removed]",
      "text/plain": [
       "<matplotlib.figure.Figure at 0x1d889407ba8>"
      ]
     },
     "metadata": {},
     "output_type": "display_data"
    }
   ],
   "source": [
    "series.plot()"
   ]
  },
  {
   "cell_type": "code",
   "execution_count": 44,
   "metadata": {
    "collapsed": true
   },
   "outputs": [],
   "source": [
    "from statsmodels.tsa.stattools import adfuller"
   ]
  },
  {
   "cell_type": "code",
   "execution_count": 48,
   "metadata": {},
   "outputs": [
    {
     "name": "stdout",
     "output_type": "stream",
     "text": [
      "ADF Statistic: -5.690939\n",
      "p-value: 0.000001\n",
      "Critical Values:\n",
      "\t1%: -3.711\n",
      "\t5%: -2.981\n",
      "\t10%: -2.630\n"
     ]
    }
   ],
   "source": [
    "result = adfuller(series)\n",
    "print('ADF Statistic: %f' % result[0])\n",
    "print('p-value: %f' % result[1])\n",
    "print('Critical Values:')\n",
    "for key, value in result[4].items():\n",
    "    print('\\t%s: %.3f' % (key, value))"
   ]
  },
  {
   "cell_type": "code",
   "execution_count": 51,
   "metadata": {},
   "outputs": [
    {
     "data": {
      "image/png": "[encoded data removed]",
      "text/plain": [
       "<matplotlib.figure.Figure at 0x1d88b5e07b8>"
      ]
     },
     "metadata": {},
     "output_type": "display_data"
    }
   ],
   "source": [
    "from statsmodels.graphics.tsaplots import plot_acf\n",
    "from statsmodels.graphics.tsaplots import plot_pacf\n",
    "\n",
    "plt.figure()\n",
    "plt.subplot(211)\n",
    "plot_acf(series, ax=plt.gca())\n",
    "plt.subplot(212)\n",
    "plot_pacf(series, ax=plt.gca())\n",
    "plt.show()"
   ]
  },
  {
   "cell_type": "code",
   "execution_count": 53,
   "metadata": {
    "collapsed": true
   },
   "outputs": [],
   "source": [
    "from statsmodels.tsa.arima_model import ARIMA\n",
    "from sklearn.model_selection import train_test_split"
   ]
  },
  {
   "cell_type": "code",
   "execution_count": 56,
   "metadata": {
    "collapsed": true
   },
   "outputs": [],
   "source": [
    "X_train, X_test, y_train, y_test = train_test_split(np.arange(len(series)), series, test_size=0.2, shuffle=False)"
   ]
  },
  {
   "cell_type": "code",
   "execution_count": null,
   "metadata": {
    "collapsed": true
   },
   "outputs": [],
   "source": [
    "for i in range(len(y_test)):\n",
    "    model = ARIMA(y_train, order=(0,0,1))\n",
    "    model.fit(trend='nc', disp=0)\n",
    "    yhat = model_fit.forecast()[0]"
   ]
  },
  {
   "cell_type": "code",
   "execution_count": null,
   "metadata": {
    "collapsed": true
   },
   "outputs": [],
   "source": [
    "predictions = list()\n",
    "for i in range(len(test)):\n",
    "\t# difference data\n",
    "\tmonths_in_year = 12\n",
    "\tdiff = difference(history, months_in_year)\n",
    "\t# predict\n",
    "\tmodel = ARIMA(diff, order=(1,1,1))\n",
    "\tmodel_fit = model.fit(trend='nc', disp=0)\n",
    "\tyhat = model_fit.forecast()[0]\n",
    "\tyhat = inverse_difference(history, yhat, months_in_year)\n",
    "\tpredictions.append(yhat)\n",
    "\t# observation\n",
    "\tobs = test[i]\n",
    "\thistory.append(obs)\n",
    "\tprint('>Predicted=%.3f, Expected=%3.f' % (yhat, obs))\n",
    "# report performance\n",
    "mse = mean_squared_error(test, predictions)\n",
    "rmse = sqrt(mse)"
   ]
  }
 ],
 "metadata": {
  "kernelspec": {
   "display_name": "Python 3",
   "language": "python",
   "name": "python3"
  },
  "language_info": {
   "codemirror_mode": {
    "name": "ipython",
    "version": 3
   },
   "file_extension": ".py",
   "mimetype": "text/x-python",
   "name": "python",
   "nbconvert_exporter": "python",
   "pygments_lexer": "ipython3",
   "version": "3.6.1"
  }
 },
 "nbformat": 4,
 "nbformat_minor": 2
}
