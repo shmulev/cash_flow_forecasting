{
 "cells": [
  {
   "cell_type": "code",
   "execution_count": 1,
   "metadata": {
    "collapsed": true
   },
   "outputs": [],
   "source": [
    "import pandas as pd\n",
    "import sklearn as sk\n",
    "import numpy as np\n",
    "import matplotlib.pyplot as plt\n",
    "import seaborn as sns\n",
    "\n",
    "import json\n",
    "from pprint import pprint\n",
    "\n",
    "import pickle\n",
    "\n",
    "%matplotlib inline"
   ]
  },
  {
   "cell_type": "markdown",
   "metadata": {},
   "source": [
    "## 1. Load data"
   ]
  },
  {
   "cell_type": "code",
   "execution_count": 2,
   "metadata": {},
   "outputs": [
    {
     "data": {
      "text/html": [
       "<div>\n",
       "<style>\n",
       "    .dataframe thead tr:only-child th {\n",
       "        text-align: right;\n",
       "    }\n",
       "\n",
       "    .dataframe thead th {\n",
       "        text-align: left;\n",
       "    }\n",
       "\n",
       "    .dataframe tbody tr th {\n",
       "        vertical-align: top;\n",
       "    }\n",
       "</style>\n",
       "<table border=\"1\" class=\"dataframe\">\n",
       "  <thead>\n",
       "    <tr style=\"text-align: right;\">\n",
       "      <th></th>\n",
       "      <th>DAT</th>\n",
       "      <th>SUM</th>\n",
       "      <th>ACCNT</th>\n",
       "    </tr>\n",
       "  </thead>\n",
       "  <tbody>\n",
       "    <tr>\n",
       "      <th>0</th>\n",
       "      <td>2017-02-28</td>\n",
       "      <td>5.257557e+06</td>\n",
       "      <td>3802025999</td>\n",
       "    </tr>\n",
       "    <tr>\n",
       "      <th>1</th>\n",
       "      <td>2017-02-28</td>\n",
       "      <td>6.306524e+07</td>\n",
       "      <td>3802025999</td>\n",
       "    </tr>\n",
       "    <tr>\n",
       "      <th>2</th>\n",
       "      <td>2017-02-28</td>\n",
       "      <td>3.793658e+09</td>\n",
       "      <td>3802025999</td>\n",
       "    </tr>\n",
       "    <tr>\n",
       "      <th>3</th>\n",
       "      <td>2017-02-28</td>\n",
       "      <td>4.231031e+06</td>\n",
       "      <td>3802025999</td>\n",
       "    </tr>\n",
       "    <tr>\n",
       "      <th>4</th>\n",
       "      <td>2017-02-28</td>\n",
       "      <td>4.336471e+06</td>\n",
       "      <td>3802025999</td>\n",
       "    </tr>\n",
       "  </tbody>\n",
       "</table>\n",
       "</div>"
      ],
      "text/plain": [
       "         DAT           SUM       ACCNT\n",
       "0 2017-02-28  5.257557e+06  3802025999\n",
       "1 2017-02-28  6.306524e+07  3802025999\n",
       "2 2017-02-28  3.793658e+09  3802025999\n",
       "3 2017-02-28  4.231031e+06  3802025999\n",
       "4 2017-02-28  4.336471e+06  3802025999"
      ]
     },
     "execution_count": 2,
     "metadata": {},
     "output_type": "execute_result"
    }
   ],
   "source": [
    "dateparser = lambda x: pd.datetime.strptime(x, '%Y%m%d')\n",
    "sumparser = lambda x: float(x[:-1])\n",
    "\n",
    "xdata = pd.read_csv(\"XDATA.TXT\", header=None, names=['DAT', 'SUM', 'ACCNT', 'MATNR','V5'],\n",
    "                    parse_dates=['DAT'], dtype = {'SUM': float, 'ACCNT': str},\n",
    "                    date_parser=dateparser, thousands='.', decimal=',')\n",
    "\n",
    "xdata.drop(['MATNR','V5'], axis=1, inplace=True)\n",
    "xdata.head()"
   ]
  },
  {
   "cell_type": "code",
   "execution_count": 3,
   "metadata": {},
   "outputs": [
    {
     "data": {
      "text/html": [
       "<div>\n",
       "<style>\n",
       "    .dataframe thead tr:only-child th {\n",
       "        text-align: right;\n",
       "    }\n",
       "\n",
       "    .dataframe thead th {\n",
       "        text-align: left;\n",
       "    }\n",
       "\n",
       "    .dataframe tbody tr th {\n",
       "        vertical-align: top;\n",
       "    }\n",
       "</style>\n",
       "<table border=\"1\" class=\"dataframe\">\n",
       "  <thead>\n",
       "    <tr style=\"text-align: right;\">\n",
       "      <th></th>\n",
       "      <th>DAT</th>\n",
       "      <th>SUM</th>\n",
       "    </tr>\n",
       "  </thead>\n",
       "  <tbody>\n",
       "    <tr>\n",
       "      <th>0</th>\n",
       "      <td>2016-09-07</td>\n",
       "      <td>26399901.20</td>\n",
       "    </tr>\n",
       "    <tr>\n",
       "      <th>1</th>\n",
       "      <td>2016-09-07</td>\n",
       "      <td>24858170.31</td>\n",
       "    </tr>\n",
       "    <tr>\n",
       "      <th>2</th>\n",
       "      <td>2016-09-07</td>\n",
       "      <td>24410943.56</td>\n",
       "    </tr>\n",
       "    <tr>\n",
       "      <th>3</th>\n",
       "      <td>2016-09-07</td>\n",
       "      <td>23784193.02</td>\n",
       "    </tr>\n",
       "    <tr>\n",
       "      <th>4</th>\n",
       "      <td>2016-09-07</td>\n",
       "      <td>73671312.56</td>\n",
       "    </tr>\n",
       "  </tbody>\n",
       "</table>\n",
       "</div>"
      ],
      "text/plain": [
       "         DAT          SUM\n",
       "0 2016-09-07  26399901.20\n",
       "1 2016-09-07  24858170.31\n",
       "2 2016-09-07  24410943.56\n",
       "3 2016-09-07  23784193.02\n",
       "4 2016-09-07  73671312.56"
      ]
     },
     "execution_count": 3,
     "metadata": {},
     "output_type": "execute_result"
    }
   ],
   "source": [
    "dateparser = lambda x: pd.datetime.strptime(x, '%Y%m%d')\n",
    "sumparser = lambda x: float(x[:-1])\n",
    "\n",
    "ydata = pd.read_csv(\"YDATA.TXT\", header=None, names=['DAT', 'SUM', 'ACCNT', 'V4','V5'],\n",
    "                    parse_dates=['DAT'], dtype = {'ACCNT': str}, converters = {'SUM': sumparser},\n",
    "                    date_parser=dateparser, thousands='.', decimal=',')\n",
    "\n",
    "ydata.drop(['ACCNT','V4', 'V5'], axis=1, inplace=True)\n",
    "ydata.head()"
   ]
  },
  {
   "cell_type": "markdown",
   "metadata": {},
   "source": [
    "## 2. Data preparation"
   ]
  },
  {
   "cell_type": "markdown",
   "metadata": {},
   "source": [
    "### 2.1 YDATA"
   ]
  },
  {
   "cell_type": "code",
   "execution_count": 4,
   "metadata": {},
   "outputs": [
    {
     "data": {
      "text/html": [
       "<div>\n",
       "<style>\n",
       "    .dataframe thead tr:only-child th {\n",
       "        text-align: right;\n",
       "    }\n",
       "\n",
       "    .dataframe thead th {\n",
       "        text-align: left;\n",
       "    }\n",
       "\n",
       "    .dataframe tbody tr th {\n",
       "        vertical-align: top;\n",
       "    }\n",
       "</style>\n",
       "<table border=\"1\" class=\"dataframe\">\n",
       "  <thead>\n",
       "    <tr style=\"text-align: right;\">\n",
       "      <th></th>\n",
       "      <th>DAT</th>\n",
       "      <th>SUM</th>\n",
       "    </tr>\n",
       "  </thead>\n",
       "  <tbody>\n",
       "    <tr>\n",
       "      <th>0</th>\n",
       "      <td>2014-01-09</td>\n",
       "      <td>2.473907e+08</td>\n",
       "    </tr>\n",
       "    <tr>\n",
       "      <th>1</th>\n",
       "      <td>2014-01-10</td>\n",
       "      <td>2.884459e+08</td>\n",
       "    </tr>\n",
       "    <tr>\n",
       "      <th>2</th>\n",
       "      <td>2014-01-13</td>\n",
       "      <td>1.031410e+08</td>\n",
       "    </tr>\n",
       "    <tr>\n",
       "      <th>3</th>\n",
       "      <td>2014-01-17</td>\n",
       "      <td>1.182808e+08</td>\n",
       "    </tr>\n",
       "    <tr>\n",
       "      <th>4</th>\n",
       "      <td>2014-01-22</td>\n",
       "      <td>2.108867e+08</td>\n",
       "    </tr>\n",
       "  </tbody>\n",
       "</table>\n",
       "</div>"
      ],
      "text/plain": [
       "         DAT           SUM\n",
       "0 2014-01-09  2.473907e+08\n",
       "1 2014-01-10  2.884459e+08\n",
       "2 2014-01-13  1.031410e+08\n",
       "3 2014-01-17  1.182808e+08\n",
       "4 2014-01-22  2.108867e+08"
      ]
     },
     "execution_count": 4,
     "metadata": {},
     "output_type": "execute_result"
    }
   ],
   "source": [
    "y_byday = ydata.groupby(by=['DAT']).sum().reset_index()\n",
    "y_byday.head()"
   ]
  },
  {
   "cell_type": "code",
   "execution_count": 5,
   "metadata": {},
   "outputs": [
    {
     "name": "stdout",
     "output_type": "stream",
     "text": [
      "Data size:\t (488, 2)\n"
     ]
    }
   ],
   "source": [
    "print('Data size:\\t', y_byday.shape)"
   ]
  },
  {
   "cell_type": "code",
   "execution_count": 6,
   "metadata": {},
   "outputs": [
    {
     "data": {
      "image/png": "[encoded data removed]",
      "text/plain": [
       "<matplotlib.figure.Figure at 0x200747dc438>"
      ]
     },
     "metadata": {},
     "output_type": "display_data"
    }
   ],
   "source": [
    "x = y_byday.DAT.copy()\n",
    "y = y_byday.SUM.copy()\n",
    "plt.figure(figsize=(8,2))\n",
    "plt.plot(x,y, 'b', lw=2)\n",
    "plt.title('Y by DAT')\n",
    "plt.grid\n",
    "plt.show()"
   ]
  },
  {
   "cell_type": "markdown",
   "metadata": {},
   "source": [
    "Split date into year_month/day:"
   ]
  },
  {
   "cell_type": "code",
   "execution_count": 7,
   "metadata": {},
   "outputs": [
    {
     "data": {
      "text/html": [
       "<div>\n",
       "<style>\n",
       "    .dataframe thead tr:only-child th {\n",
       "        text-align: right;\n",
       "    }\n",
       "\n",
       "    .dataframe thead th {\n",
       "        text-align: left;\n",
       "    }\n",
       "\n",
       "    .dataframe tbody tr th {\n",
       "        vertical-align: top;\n",
       "    }\n",
       "</style>\n",
       "<table border=\"1\" class=\"dataframe\">\n",
       "  <thead>\n",
       "    <tr style=\"text-align: right;\">\n",
       "      <th></th>\n",
       "      <th>DAY</th>\n",
       "      <th>MONTH</th>\n",
       "      <th>YEAR</th>\n",
       "      <th>SUM</th>\n",
       "    </tr>\n",
       "  </thead>\n",
       "  <tbody>\n",
       "    <tr>\n",
       "      <th>0</th>\n",
       "      <td>9</td>\n",
       "      <td>1</td>\n",
       "      <td>2014</td>\n",
       "      <td>2.473907e+08</td>\n",
       "    </tr>\n",
       "    <tr>\n",
       "      <th>1</th>\n",
       "      <td>10</td>\n",
       "      <td>1</td>\n",
       "      <td>2014</td>\n",
       "      <td>2.884459e+08</td>\n",
       "    </tr>\n",
       "    <tr>\n",
       "      <th>2</th>\n",
       "      <td>13</td>\n",
       "      <td>1</td>\n",
       "      <td>2014</td>\n",
       "      <td>1.031410e+08</td>\n",
       "    </tr>\n",
       "    <tr>\n",
       "      <th>3</th>\n",
       "      <td>17</td>\n",
       "      <td>1</td>\n",
       "      <td>2014</td>\n",
       "      <td>1.182808e+08</td>\n",
       "    </tr>\n",
       "    <tr>\n",
       "      <th>4</th>\n",
       "      <td>22</td>\n",
       "      <td>1</td>\n",
       "      <td>2014</td>\n",
       "      <td>2.108867e+08</td>\n",
       "    </tr>\n",
       "  </tbody>\n",
       "</table>\n",
       "</div>"
      ],
      "text/plain": [
       "   DAY  MONTH  YEAR           SUM\n",
       "0    9      1  2014  2.473907e+08\n",
       "1   10      1  2014  2.884459e+08\n",
       "2   13      1  2014  1.031410e+08\n",
       "3   17      1  2014  1.182808e+08\n",
       "4   22      1  2014  2.108867e+08"
      ]
     },
     "execution_count": 7,
     "metadata": {},
     "output_type": "execute_result"
    }
   ],
   "source": [
    "y_byday['DAY'] = [date.day for date in y_byday.DAT]\n",
    "y_byday['MONTH'] = [date.month for date in y_byday.DAT]\n",
    "y_byday['YEAR'] = [date.year for date in y_byday.DAT]\n",
    "y_byday.drop(['DAT'],axis=1, inplace=True)\n",
    "y_byday = y_byday[['DAY','MONTH','YEAR', 'SUM']] \n",
    "y_byday.head()"
   ]
  },
  {
   "cell_type": "code",
   "execution_count": 8,
   "metadata": {},
   "outputs": [
    {
     "data": {
      "text/html": [
       "<div>\n",
       "<style>\n",
       "    .dataframe thead tr:only-child th {\n",
       "        text-align: right;\n",
       "    }\n",
       "\n",
       "    .dataframe thead th {\n",
       "        text-align: left;\n",
       "    }\n",
       "\n",
       "    .dataframe tbody tr th {\n",
       "        vertical-align: top;\n",
       "    }\n",
       "</style>\n",
       "<table border=\"1\" class=\"dataframe\">\n",
       "  <thead>\n",
       "    <tr style=\"text-align: right;\">\n",
       "      <th></th>\n",
       "      <th>DAY</th>\n",
       "      <th>MONTH</th>\n",
       "      <th>YEAR</th>\n",
       "      <th>SUM</th>\n",
       "    </tr>\n",
       "  </thead>\n",
       "  <tbody>\n",
       "    <tr>\n",
       "      <th>483</th>\n",
       "      <td>24</td>\n",
       "      <td>3</td>\n",
       "      <td>2017</td>\n",
       "      <td>1.490761e+09</td>\n",
       "    </tr>\n",
       "    <tr>\n",
       "      <th>484</th>\n",
       "      <td>26</td>\n",
       "      <td>3</td>\n",
       "      <td>2017</td>\n",
       "      <td>1.216982e+07</td>\n",
       "    </tr>\n",
       "    <tr>\n",
       "      <th>485</th>\n",
       "      <td>27</td>\n",
       "      <td>3</td>\n",
       "      <td>2017</td>\n",
       "      <td>8.017523e+08</td>\n",
       "    </tr>\n",
       "    <tr>\n",
       "      <th>486</th>\n",
       "      <td>28</td>\n",
       "      <td>3</td>\n",
       "      <td>2017</td>\n",
       "      <td>4.323180e+09</td>\n",
       "    </tr>\n",
       "    <tr>\n",
       "      <th>487</th>\n",
       "      <td>29</td>\n",
       "      <td>3</td>\n",
       "      <td>2017</td>\n",
       "      <td>6.656959e+08</td>\n",
       "    </tr>\n",
       "  </tbody>\n",
       "</table>\n",
       "</div>"
      ],
      "text/plain": [
       "     DAY  MONTH  YEAR           SUM\n",
       "483   24      3  2017  1.490761e+09\n",
       "484   26      3  2017  1.216982e+07\n",
       "485   27      3  2017  8.017523e+08\n",
       "486   28      3  2017  4.323180e+09\n",
       "487   29      3  2017  6.656959e+08"
      ]
     },
     "execution_count": 8,
     "metadata": {},
     "output_type": "execute_result"
    }
   ],
   "source": [
    "y_byday.tail()"
   ]
  },
  {
   "cell_type": "code",
   "execution_count": 9,
   "metadata": {
    "collapsed": true
   },
   "outputs": [],
   "source": [
    "y_bymonth = y_byday.groupby(by=['MONTH','YEAR']).sum().reset_index()\n",
    "y_bymonth.drop(['DAY'], axis=1, inplace=True)"
   ]
  },
  {
   "cell_type": "markdown",
   "metadata": {},
   "source": [
    "#### Drop 3-th month of 2017 year, cause in XDATA we have only data from 2014-01 -> 2017-02"
   ]
  },
  {
   "cell_type": "code",
   "execution_count": 10,
   "metadata": {},
   "outputs": [],
   "source": [
    "y_bymonth.drop(y_bymonth[(y_bymonth.YEAR == 2017) & (y_bymonth.MONTH == 3)].index, axis=0, inplace=True)"
   ]
  },
  {
   "cell_type": "code",
   "execution_count": 11,
   "metadata": {},
   "outputs": [
    {
     "data": {
      "text/plain": [
       "(38, 3)"
      ]
     },
     "execution_count": 11,
     "metadata": {},
     "output_type": "execute_result"
    }
   ],
   "source": [
    "y_bymonth.shape"
   ]
  },
  {
   "cell_type": "markdown",
   "metadata": {},
   "source": [
    "### 2.2 XDATA"
   ]
  },
  {
   "cell_type": "code",
   "execution_count": 12,
   "metadata": {
    "scrolled": true
   },
   "outputs": [
    {
     "data": {
      "text/html": [
       "<div>\n",
       "<style>\n",
       "    .dataframe thead tr:only-child th {\n",
       "        text-align: right;\n",
       "    }\n",
       "\n",
       "    .dataframe thead th {\n",
       "        text-align: left;\n",
       "    }\n",
       "\n",
       "    .dataframe tbody tr th {\n",
       "        vertical-align: top;\n",
       "    }\n",
       "</style>\n",
       "<table border=\"1\" class=\"dataframe\">\n",
       "  <thead>\n",
       "    <tr style=\"text-align: right;\">\n",
       "      <th></th>\n",
       "      <th>DAT</th>\n",
       "      <th>SUM</th>\n",
       "      <th>ACCNT</th>\n",
       "    </tr>\n",
       "  </thead>\n",
       "  <tbody>\n",
       "    <tr>\n",
       "      <th>0</th>\n",
       "      <td>2017-02-28</td>\n",
       "      <td>5.257557e+06</td>\n",
       "      <td>3802025999</td>\n",
       "    </tr>\n",
       "    <tr>\n",
       "      <th>1</th>\n",
       "      <td>2017-02-28</td>\n",
       "      <td>6.306524e+07</td>\n",
       "      <td>3802025999</td>\n",
       "    </tr>\n",
       "    <tr>\n",
       "      <th>2</th>\n",
       "      <td>2017-02-28</td>\n",
       "      <td>3.793658e+09</td>\n",
       "      <td>3802025999</td>\n",
       "    </tr>\n",
       "    <tr>\n",
       "      <th>3</th>\n",
       "      <td>2017-02-28</td>\n",
       "      <td>4.231031e+06</td>\n",
       "      <td>3802025999</td>\n",
       "    </tr>\n",
       "    <tr>\n",
       "      <th>4</th>\n",
       "      <td>2017-02-28</td>\n",
       "      <td>4.336471e+06</td>\n",
       "      <td>3802025999</td>\n",
       "    </tr>\n",
       "  </tbody>\n",
       "</table>\n",
       "</div>"
      ],
      "text/plain": [
       "         DAT           SUM       ACCNT\n",
       "0 2017-02-28  5.257557e+06  3802025999\n",
       "1 2017-02-28  6.306524e+07  3802025999\n",
       "2 2017-02-28  3.793658e+09  3802025999\n",
       "3 2017-02-28  4.231031e+06  3802025999\n",
       "4 2017-02-28  4.336471e+06  3802025999"
      ]
     },
     "execution_count": 12,
     "metadata": {},
     "output_type": "execute_result"
    }
   ],
   "source": [
    "xdata.head()"
   ]
  },
  {
   "cell_type": "code",
   "execution_count": 13,
   "metadata": {},
   "outputs": [
    {
     "data": {
      "text/html": [
       "<div>\n",
       "<style>\n",
       "    .dataframe thead tr:only-child th {\n",
       "        text-align: right;\n",
       "    }\n",
       "\n",
       "    .dataframe thead th {\n",
       "        text-align: left;\n",
       "    }\n",
       "\n",
       "    .dataframe tbody tr th {\n",
       "        vertical-align: top;\n",
       "    }\n",
       "</style>\n",
       "<table border=\"1\" class=\"dataframe\">\n",
       "  <thead>\n",
       "    <tr style=\"text-align: right;\">\n",
       "      <th></th>\n",
       "      <th>DAT</th>\n",
       "      <th>ACCNT</th>\n",
       "      <th>SUM</th>\n",
       "    </tr>\n",
       "  </thead>\n",
       "  <tbody>\n",
       "    <tr>\n",
       "      <th>0</th>\n",
       "      <td>2014-01-31</td>\n",
       "      <td>3802025015</td>\n",
       "      <td>5.363860e+06</td>\n",
       "    </tr>\n",
       "    <tr>\n",
       "      <th>1</th>\n",
       "      <td>2014-01-31</td>\n",
       "      <td>3802025018</td>\n",
       "      <td>1.303150e+09</td>\n",
       "    </tr>\n",
       "    <tr>\n",
       "      <th>2</th>\n",
       "      <td>2014-01-31</td>\n",
       "      <td>3802025063</td>\n",
       "      <td>4.924695e+08</td>\n",
       "    </tr>\n",
       "    <tr>\n",
       "      <th>3</th>\n",
       "      <td>2014-01-31</td>\n",
       "      <td>3802025504</td>\n",
       "      <td>4.288226e+09</td>\n",
       "    </tr>\n",
       "    <tr>\n",
       "      <th>4</th>\n",
       "      <td>2014-01-31</td>\n",
       "      <td>3802025518</td>\n",
       "      <td>2.088984e+07</td>\n",
       "    </tr>\n",
       "  </tbody>\n",
       "</table>\n",
       "</div>"
      ],
      "text/plain": [
       "         DAT       ACCNT           SUM\n",
       "0 2014-01-31  3802025015  5.363860e+06\n",
       "1 2014-01-31  3802025018  1.303150e+09\n",
       "2 2014-01-31  3802025063  4.924695e+08\n",
       "3 2014-01-31  3802025504  4.288226e+09\n",
       "4 2014-01-31  3802025518  2.088984e+07"
      ]
     },
     "execution_count": 13,
     "metadata": {},
     "output_type": "execute_result"
    }
   ],
   "source": [
    "x_byday = xdata.groupby(by=['DAT', 'ACCNT']).sum().reset_index()\n",
    "x_byday.head()"
   ]
  },
  {
   "cell_type": "code",
   "execution_count": 14,
   "metadata": {},
   "outputs": [
    {
     "name": "stdout",
     "output_type": "stream",
     "text": [
      "['3802025015' '3802025017' '3802025018' '3802025063' '3802025066'\n",
      " '3802025504' '3802025518' '3802025519' '3802025997' '3802025998'\n",
      " '3802025999']\n"
     ]
    }
   ],
   "source": [
    "x_accnts = np.unique(x_byday.ACCNT)\n",
    "print(x_accnts)"
   ]
  },
  {
   "cell_type": "code",
   "execution_count": 15,
   "metadata": {},
   "outputs": [
    {
     "name": "stdout",
     "output_type": "stream",
     "text": [
      "Unique dates: ['2014-01-31T00:00:00.000000000' '2014-02-28T00:00:00.000000000'\n",
      " '2014-03-31T00:00:00.000000000' '2014-04-30T00:00:00.000000000'\n",
      " '2014-05-31T00:00:00.000000000' '2014-06-30T00:00:00.000000000'\n",
      " '2014-07-31T00:00:00.000000000' '2014-08-31T00:00:00.000000000'\n",
      " '2014-09-30T00:00:00.000000000' '2014-10-31T00:00:00.000000000'\n",
      " '2014-11-30T00:00:00.000000000' '2014-12-31T00:00:00.000000000'\n",
      " '2015-01-31T00:00:00.000000000' '2015-02-28T00:00:00.000000000'\n",
      " '2015-03-31T00:00:00.000000000' '2015-04-30T00:00:00.000000000'\n",
      " '2015-05-31T00:00:00.000000000' '2015-06-30T00:00:00.000000000'\n",
      " '2015-07-31T00:00:00.000000000' '2015-08-31T00:00:00.000000000'\n",
      " '2015-09-30T00:00:00.000000000' '2015-10-31T00:00:00.000000000'\n",
      " '2015-11-30T00:00:00.000000000' '2015-12-31T00:00:00.000000000'\n",
      " '2016-01-31T00:00:00.000000000' '2016-02-29T00:00:00.000000000'\n",
      " '2016-03-31T00:00:00.000000000' '2016-04-30T00:00:00.000000000'\n",
      " '2016-05-31T00:00:00.000000000' '2016-06-30T00:00:00.000000000'\n",
      " '2016-07-31T00:00:00.000000000' '2016-08-31T00:00:00.000000000'\n",
      " '2016-09-30T00:00:00.000000000' '2016-10-31T00:00:00.000000000'\n",
      " '2016-11-30T00:00:00.000000000' '2016-12-31T00:00:00.000000000'\n",
      " '2017-01-31T00:00:00.000000000' '2017-02-28T00:00:00.000000000']\n",
      "\n",
      "Number of dates: 38\n"
     ]
    }
   ],
   "source": [
    "print('Unique dates:', np.unique(x_byday.DAT))\n",
    "print('\\nNumber of dates:', len(np.unique(x_byday.DAT)))"
   ]
  },
  {
   "cell_type": "code",
   "execution_count": 16,
   "metadata": {},
   "outputs": [
    {
     "name": "stdout",
     "output_type": "stream",
     "text": [
      "Data size:\t (279, 3)\n"
     ]
    }
   ],
   "source": [
    "print('Data size:\\t', x_byday.shape)"
   ]
  },
  {
   "cell_type": "code",
   "execution_count": 17,
   "metadata": {},
   "outputs": [
    {
     "data": {
      "image/png": "[encoded data removed]",
      "text/plain": [
       "<matplotlib.figure.Figure at 0x200747dc278>"
      ]
     },
     "metadata": {},
     "output_type": "display_data"
    }
   ],
   "source": [
    "x = x_byday.DAT.copy()\n",
    "y = x_byday.SUM.copy()\n",
    "plt.figure(figsize=(8,2))\n",
    "plt.plot(x,y, 'b.', ms=10)\n",
    "plt.title('X by DAT')\n",
    "plt.grid\n",
    "plt.show()"
   ]
  },
  {
   "cell_type": "markdown",
   "metadata": {},
   "source": [
    "Split date into year_month/day:"
   ]
  },
  {
   "cell_type": "code",
   "execution_count": 18,
   "metadata": {},
   "outputs": [],
   "source": [
    "x_bymonth = x_byday.copy()\n",
    "x_bymonth['MONTH'] = [date.month for date in x_bymonth.DAT]\n",
    "x_bymonth['YEAR'] = [date.year for date in x_bymonth.DAT]\n",
    "x_bymonth.drop(['DAT'],axis=1, inplace=True)\n",
    "x_bymonth = x_bymonth[['MONTH','YEAR', 'SUM','ACCNT']] "
   ]
  },
  {
   "cell_type": "code",
   "execution_count": 19,
   "metadata": {},
   "outputs": [
    {
     "data": {
      "text/plain": [
       "(279, 4)"
      ]
     },
     "execution_count": 19,
     "metadata": {},
     "output_type": "execute_result"
    }
   ],
   "source": [
    "x_bymonth.shape"
   ]
  },
  {
   "cell_type": "markdown",
   "metadata": {},
   "source": [
    "#### Resize our XDATA:"
   ]
  },
  {
   "cell_type": "code",
   "execution_count": 20,
   "metadata": {},
   "outputs": [
    {
     "name": "stdout",
     "output_type": "stream",
     "text": [
      "['3802025015' '3802025017' '3802025018' '3802025063' '3802025066'\n",
      " '3802025504' '3802025518' '3802025519' '3802025997' '3802025998'\n",
      " '3802025999']\n"
     ]
    }
   ],
   "source": [
    "N_ACCNTS = len(x_accnts)\n",
    "N_MONTHS = y_bymonth.shape[0]\n",
    "print(x_accnts)"
   ]
  },
  {
   "cell_type": "code",
   "execution_count": 21,
   "metadata": {},
   "outputs": [],
   "source": [
    "X = pd.DataFrame(data=np.zeros((N_MONTHS, N_ACCNTS)), columns=np.arange(N_ACCNTS), index=np.arange(N_MONTHS))\n",
    "for accnt,i in zip(x_accnts, np.arange(N_ACCNTS)):\n",
    "    for month, year in zip(x_bymonth[x_bymonth.ACCNT == accnt].MONTH, x_bymonth[x_bymonth.ACCNT == accnt].YEAR):\n",
    "        X[i].iloc[(month-1) + 12*(year-2014)] = x_bymonth[(x_bymonth.ACCNT == accnt) & (x_bymonth.MONTH == month)].SUM.values[0]"
   ]
  },
  {
   "cell_type": "code",
   "execution_count": 22,
   "metadata": {},
   "outputs": [
    {
     "data": {
      "text/html": [
       "<div>\n",
       "<style>\n",
       "    .dataframe thead tr:only-child th {\n",
       "        text-align: right;\n",
       "    }\n",
       "\n",
       "    .dataframe thead th {\n",
       "        text-align: left;\n",
       "    }\n",
       "\n",
       "    .dataframe tbody tr th {\n",
       "        vertical-align: top;\n",
       "    }\n",
       "</style>\n",
       "<table border=\"1\" class=\"dataframe\">\n",
       "  <thead>\n",
       "    <tr style=\"text-align: right;\">\n",
       "      <th></th>\n",
       "      <th>0</th>\n",
       "      <th>1</th>\n",
       "      <th>2</th>\n",
       "      <th>3</th>\n",
       "      <th>4</th>\n",
       "      <th>5</th>\n",
       "      <th>6</th>\n",
       "      <th>7</th>\n",
       "      <th>8</th>\n",
       "      <th>9</th>\n",
       "      <th>10</th>\n",
       "    </tr>\n",
       "  </thead>\n",
       "  <tbody>\n",
       "    <tr>\n",
       "      <th>0</th>\n",
       "      <td>5363860.0</td>\n",
       "      <td>0.0</td>\n",
       "      <td>1.303150e+09</td>\n",
       "      <td>4.924695e+08</td>\n",
       "      <td>0.0</td>\n",
       "      <td>4.288226e+09</td>\n",
       "      <td>2.088984e+07</td>\n",
       "      <td>5.975710e+10</td>\n",
       "      <td>0.0</td>\n",
       "      <td>0.000000e+00</td>\n",
       "      <td>1.809790e+10</td>\n",
       "    </tr>\n",
       "    <tr>\n",
       "      <th>1</th>\n",
       "      <td>0.0</td>\n",
       "      <td>7300072.0</td>\n",
       "      <td>1.129713e+09</td>\n",
       "      <td>4.409600e+08</td>\n",
       "      <td>0.0</td>\n",
       "      <td>4.430002e+09</td>\n",
       "      <td>0.000000e+00</td>\n",
       "      <td>8.653444e+10</td>\n",
       "      <td>0.0</td>\n",
       "      <td>0.000000e+00</td>\n",
       "      <td>4.961550e+10</td>\n",
       "    </tr>\n",
       "    <tr>\n",
       "      <th>2</th>\n",
       "      <td>0.0</td>\n",
       "      <td>13867563.0</td>\n",
       "      <td>1.261419e+09</td>\n",
       "      <td>4.208694e+08</td>\n",
       "      <td>0.0</td>\n",
       "      <td>5.226320e+09</td>\n",
       "      <td>0.000000e+00</td>\n",
       "      <td>6.968537e+10</td>\n",
       "      <td>133181704.0</td>\n",
       "      <td>2.317853e+10</td>\n",
       "      <td>4.906368e+10</td>\n",
       "    </tr>\n",
       "    <tr>\n",
       "      <th>3</th>\n",
       "      <td>0.0</td>\n",
       "      <td>1324407.0</td>\n",
       "      <td>1.322120e+09</td>\n",
       "      <td>7.216733e+08</td>\n",
       "      <td>0.0</td>\n",
       "      <td>4.157749e+09</td>\n",
       "      <td>0.000000e+00</td>\n",
       "      <td>7.640161e+10</td>\n",
       "      <td>0.0</td>\n",
       "      <td>6.320590e+05</td>\n",
       "      <td>2.512859e+10</td>\n",
       "    </tr>\n",
       "    <tr>\n",
       "      <th>4</th>\n",
       "      <td>388691.0</td>\n",
       "      <td>2241126.0</td>\n",
       "      <td>8.809684e+08</td>\n",
       "      <td>4.594114e+08</td>\n",
       "      <td>21999419.0</td>\n",
       "      <td>3.364891e+09</td>\n",
       "      <td>5.427332e+09</td>\n",
       "      <td>4.940677e+10</td>\n",
       "      <td>0.0</td>\n",
       "      <td>0.000000e+00</td>\n",
       "      <td>1.329558e+10</td>\n",
       "    </tr>\n",
       "    <tr>\n",
       "      <th>5</th>\n",
       "      <td>0.0</td>\n",
       "      <td>17200000.0</td>\n",
       "      <td>5.370869e+09</td>\n",
       "      <td>4.364447e+08</td>\n",
       "      <td>0.0</td>\n",
       "      <td>1.805936e+10</td>\n",
       "      <td>0.000000e+00</td>\n",
       "      <td>2.652726e+11</td>\n",
       "      <td>114869789.0</td>\n",
       "      <td>1.971609e+10</td>\n",
       "      <td>3.211719e+10</td>\n",
       "    </tr>\n",
       "    <tr>\n",
       "      <th>6</th>\n",
       "      <td>0.0</td>\n",
       "      <td>0.0</td>\n",
       "      <td>1.444667e+09</td>\n",
       "      <td>6.115106e+08</td>\n",
       "      <td>0.0</td>\n",
       "      <td>2.643455e+09</td>\n",
       "      <td>0.000000e+00</td>\n",
       "      <td>7.650714e+10</td>\n",
       "      <td>0.0</td>\n",
       "      <td>0.000000e+00</td>\n",
       "      <td>2.121685e+10</td>\n",
       "    </tr>\n",
       "    <tr>\n",
       "      <th>7</th>\n",
       "      <td>0.0</td>\n",
       "      <td>13454035.0</td>\n",
       "      <td>1.204596e+09</td>\n",
       "      <td>4.793448e+08</td>\n",
       "      <td>0.0</td>\n",
       "      <td>2.850423e+09</td>\n",
       "      <td>0.000000e+00</td>\n",
       "      <td>8.945263e+10</td>\n",
       "      <td>0.0</td>\n",
       "      <td>0.000000e+00</td>\n",
       "      <td>2.174150e+10</td>\n",
       "    </tr>\n",
       "    <tr>\n",
       "      <th>8</th>\n",
       "      <td>0.0</td>\n",
       "      <td>9118301.0</td>\n",
       "      <td>1.374734e+09</td>\n",
       "      <td>5.919861e+08</td>\n",
       "      <td>29273853.0</td>\n",
       "      <td>5.516522e+09</td>\n",
       "      <td>0.000000e+00</td>\n",
       "      <td>7.335859e+10</td>\n",
       "      <td>234891520.0</td>\n",
       "      <td>3.941544e+10</td>\n",
       "      <td>3.136882e+10</td>\n",
       "    </tr>\n",
       "    <tr>\n",
       "      <th>9</th>\n",
       "      <td>305453.0</td>\n",
       "      <td>2973390.0</td>\n",
       "      <td>1.873354e+09</td>\n",
       "      <td>8.621252e+08</td>\n",
       "      <td>0.0</td>\n",
       "      <td>5.249106e+09</td>\n",
       "      <td>6.864835e+09</td>\n",
       "      <td>9.778947e+10</td>\n",
       "      <td>0.0</td>\n",
       "      <td>3.166302e+07</td>\n",
       "      <td>2.706838e+10</td>\n",
       "    </tr>\n",
       "    <tr>\n",
       "      <th>10</th>\n",
       "      <td>0.0</td>\n",
       "      <td>57293010.0</td>\n",
       "      <td>9.117198e+09</td>\n",
       "      <td>6.136031e+08</td>\n",
       "      <td>0.0</td>\n",
       "      <td>1.833656e+10</td>\n",
       "      <td>0.000000e+00</td>\n",
       "      <td>5.564838e+11</td>\n",
       "      <td>0.0</td>\n",
       "      <td>0.000000e+00</td>\n",
       "      <td>2.390122e+10</td>\n",
       "    </tr>\n",
       "    <tr>\n",
       "      <th>11</th>\n",
       "      <td>0.0</td>\n",
       "      <td>4424333.0</td>\n",
       "      <td>1.760939e+09</td>\n",
       "      <td>1.094521e+09</td>\n",
       "      <td>35164263.0</td>\n",
       "      <td>5.227180e+09</td>\n",
       "      <td>0.000000e+00</td>\n",
       "      <td>1.089028e+11</td>\n",
       "      <td>507531607.0</td>\n",
       "      <td>5.471344e+10</td>\n",
       "      <td>6.792616e+10</td>\n",
       "    </tr>\n",
       "    <tr>\n",
       "      <th>12</th>\n",
       "      <td>0.0</td>\n",
       "      <td>555657.0</td>\n",
       "      <td>1.303150e+09</td>\n",
       "      <td>4.924695e+08</td>\n",
       "      <td>0.0</td>\n",
       "      <td>4.288226e+09</td>\n",
       "      <td>0.000000e+00</td>\n",
       "      <td>5.975710e+10</td>\n",
       "      <td>0.0</td>\n",
       "      <td>0.000000e+00</td>\n",
       "      <td>1.809790e+10</td>\n",
       "    </tr>\n",
       "    <tr>\n",
       "      <th>13</th>\n",
       "      <td>0.0</td>\n",
       "      <td>7300072.0</td>\n",
       "      <td>1.129713e+09</td>\n",
       "      <td>4.409600e+08</td>\n",
       "      <td>75453531.0</td>\n",
       "      <td>4.430002e+09</td>\n",
       "      <td>0.000000e+00</td>\n",
       "      <td>8.653444e+10</td>\n",
       "      <td>0.0</td>\n",
       "      <td>0.000000e+00</td>\n",
       "      <td>4.961550e+10</td>\n",
       "    </tr>\n",
       "    <tr>\n",
       "      <th>14</th>\n",
       "      <td>0.0</td>\n",
       "      <td>13867563.0</td>\n",
       "      <td>1.261419e+09</td>\n",
       "      <td>4.208694e+08</td>\n",
       "      <td>0.0</td>\n",
       "      <td>5.226320e+09</td>\n",
       "      <td>0.000000e+00</td>\n",
       "      <td>6.968537e+10</td>\n",
       "      <td>133181704.0</td>\n",
       "      <td>2.317853e+10</td>\n",
       "      <td>4.906368e+10</td>\n",
       "    </tr>\n",
       "    <tr>\n",
       "      <th>15</th>\n",
       "      <td>166960.0</td>\n",
       "      <td>1324407.0</td>\n",
       "      <td>1.322120e+09</td>\n",
       "      <td>7.216733e+08</td>\n",
       "      <td>0.0</td>\n",
       "      <td>4.157749e+09</td>\n",
       "      <td>6.857077e+08</td>\n",
       "      <td>7.640161e+10</td>\n",
       "      <td>2106884.0</td>\n",
       "      <td>0.000000e+00</td>\n",
       "      <td>2.512859e+10</td>\n",
       "    </tr>\n",
       "    <tr>\n",
       "      <th>16</th>\n",
       "      <td>388691.0</td>\n",
       "      <td>2241126.0</td>\n",
       "      <td>8.809684e+08</td>\n",
       "      <td>4.594114e+08</td>\n",
       "      <td>21999419.0</td>\n",
       "      <td>3.364891e+09</td>\n",
       "      <td>5.427332e+09</td>\n",
       "      <td>4.940677e+10</td>\n",
       "      <td>0.0</td>\n",
       "      <td>0.000000e+00</td>\n",
       "      <td>1.329558e+10</td>\n",
       "    </tr>\n",
       "    <tr>\n",
       "      <th>17</th>\n",
       "      <td>0.0</td>\n",
       "      <td>17200000.0</td>\n",
       "      <td>5.370869e+09</td>\n",
       "      <td>4.364447e+08</td>\n",
       "      <td>0.0</td>\n",
       "      <td>1.805936e+10</td>\n",
       "      <td>0.000000e+00</td>\n",
       "      <td>2.652726e+11</td>\n",
       "      <td>114869789.0</td>\n",
       "      <td>1.971609e+10</td>\n",
       "      <td>3.211719e+10</td>\n",
       "    </tr>\n",
       "    <tr>\n",
       "      <th>18</th>\n",
       "      <td>0.0</td>\n",
       "      <td>315125497.0</td>\n",
       "      <td>1.444667e+09</td>\n",
       "      <td>6.115106e+08</td>\n",
       "      <td>0.0</td>\n",
       "      <td>2.643455e+09</td>\n",
       "      <td>0.000000e+00</td>\n",
       "      <td>7.650714e+10</td>\n",
       "      <td>0.0</td>\n",
       "      <td>0.000000e+00</td>\n",
       "      <td>2.121685e+10</td>\n",
       "    </tr>\n",
       "    <tr>\n",
       "      <th>19</th>\n",
       "      <td>0.0</td>\n",
       "      <td>13454035.0</td>\n",
       "      <td>1.204596e+09</td>\n",
       "      <td>4.793448e+08</td>\n",
       "      <td>0.0</td>\n",
       "      <td>2.850423e+09</td>\n",
       "      <td>0.000000e+00</td>\n",
       "      <td>8.945263e+10</td>\n",
       "      <td>0.0</td>\n",
       "      <td>0.000000e+00</td>\n",
       "      <td>2.174150e+10</td>\n",
       "    </tr>\n",
       "    <tr>\n",
       "      <th>20</th>\n",
       "      <td>0.0</td>\n",
       "      <td>9118301.0</td>\n",
       "      <td>1.374734e+09</td>\n",
       "      <td>5.919861e+08</td>\n",
       "      <td>0.0</td>\n",
       "      <td>5.516522e+09</td>\n",
       "      <td>0.000000e+00</td>\n",
       "      <td>7.335859e+10</td>\n",
       "      <td>234891520.0</td>\n",
       "      <td>3.941544e+10</td>\n",
       "      <td>3.136882e+10</td>\n",
       "    </tr>\n",
       "    <tr>\n",
       "      <th>21</th>\n",
       "      <td>305453.0</td>\n",
       "      <td>2973390.0</td>\n",
       "      <td>1.873354e+09</td>\n",
       "      <td>8.621252e+08</td>\n",
       "      <td>0.0</td>\n",
       "      <td>5.249106e+09</td>\n",
       "      <td>6.864835e+09</td>\n",
       "      <td>9.778947e+10</td>\n",
       "      <td>0.0</td>\n",
       "      <td>0.000000e+00</td>\n",
       "      <td>2.706838e+10</td>\n",
       "    </tr>\n",
       "    <tr>\n",
       "      <th>22</th>\n",
       "      <td>0.0</td>\n",
       "      <td>57293010.0</td>\n",
       "      <td>9.117198e+09</td>\n",
       "      <td>6.136031e+08</td>\n",
       "      <td>0.0</td>\n",
       "      <td>1.833656e+10</td>\n",
       "      <td>1.205597e+09</td>\n",
       "      <td>5.564838e+11</td>\n",
       "      <td>0.0</td>\n",
       "      <td>0.000000e+00</td>\n",
       "      <td>2.390122e+10</td>\n",
       "    </tr>\n",
       "    <tr>\n",
       "      <th>23</th>\n",
       "      <td>0.0</td>\n",
       "      <td>4424333.0</td>\n",
       "      <td>1.760939e+09</td>\n",
       "      <td>1.094521e+09</td>\n",
       "      <td>35164263.0</td>\n",
       "      <td>5.227180e+09</td>\n",
       "      <td>0.000000e+00</td>\n",
       "      <td>1.089028e+11</td>\n",
       "      <td>507531607.0</td>\n",
       "      <td>5.471344e+10</td>\n",
       "      <td>6.792616e+10</td>\n",
       "    </tr>\n",
       "    <tr>\n",
       "      <th>24</th>\n",
       "      <td>0.0</td>\n",
       "      <td>555657.0</td>\n",
       "      <td>1.303150e+09</td>\n",
       "      <td>4.924695e+08</td>\n",
       "      <td>0.0</td>\n",
       "      <td>4.288226e+09</td>\n",
       "      <td>0.000000e+00</td>\n",
       "      <td>5.975710e+10</td>\n",
       "      <td>0.0</td>\n",
       "      <td>0.000000e+00</td>\n",
       "      <td>1.809790e+10</td>\n",
       "    </tr>\n",
       "    <tr>\n",
       "      <th>25</th>\n",
       "      <td>0.0</td>\n",
       "      <td>7300072.0</td>\n",
       "      <td>1.129713e+09</td>\n",
       "      <td>4.409600e+08</td>\n",
       "      <td>0.0</td>\n",
       "      <td>4.430002e+09</td>\n",
       "      <td>0.000000e+00</td>\n",
       "      <td>8.653444e+10</td>\n",
       "      <td>0.0</td>\n",
       "      <td>0.000000e+00</td>\n",
       "      <td>4.961550e+10</td>\n",
       "    </tr>\n",
       "    <tr>\n",
       "      <th>26</th>\n",
       "      <td>0.0</td>\n",
       "      <td>13867563.0</td>\n",
       "      <td>1.261419e+09</td>\n",
       "      <td>4.208694e+08</td>\n",
       "      <td>0.0</td>\n",
       "      <td>5.226320e+09</td>\n",
       "      <td>0.000000e+00</td>\n",
       "      <td>6.968537e+10</td>\n",
       "      <td>133181704.0</td>\n",
       "      <td>2.317853e+10</td>\n",
       "      <td>4.906368e+10</td>\n",
       "    </tr>\n",
       "    <tr>\n",
       "      <th>27</th>\n",
       "      <td>0.0</td>\n",
       "      <td>1324407.0</td>\n",
       "      <td>1.322120e+09</td>\n",
       "      <td>7.216733e+08</td>\n",
       "      <td>0.0</td>\n",
       "      <td>4.157749e+09</td>\n",
       "      <td>0.000000e+00</td>\n",
       "      <td>7.640161e+10</td>\n",
       "      <td>0.0</td>\n",
       "      <td>0.000000e+00</td>\n",
       "      <td>2.512859e+10</td>\n",
       "    </tr>\n",
       "    <tr>\n",
       "      <th>28</th>\n",
       "      <td>0.0</td>\n",
       "      <td>2241126.0</td>\n",
       "      <td>8.809684e+08</td>\n",
       "      <td>4.594114e+08</td>\n",
       "      <td>0.0</td>\n",
       "      <td>3.364891e+09</td>\n",
       "      <td>0.000000e+00</td>\n",
       "      <td>4.940677e+10</td>\n",
       "      <td>0.0</td>\n",
       "      <td>0.000000e+00</td>\n",
       "      <td>1.329558e+10</td>\n",
       "    </tr>\n",
       "    <tr>\n",
       "      <th>29</th>\n",
       "      <td>0.0</td>\n",
       "      <td>0.0</td>\n",
       "      <td>5.370869e+09</td>\n",
       "      <td>4.364447e+08</td>\n",
       "      <td>0.0</td>\n",
       "      <td>1.805936e+10</td>\n",
       "      <td>0.000000e+00</td>\n",
       "      <td>2.652726e+11</td>\n",
       "      <td>114869789.0</td>\n",
       "      <td>1.971609e+10</td>\n",
       "      <td>3.211719e+10</td>\n",
       "    </tr>\n",
       "    <tr>\n",
       "      <th>30</th>\n",
       "      <td>0.0</td>\n",
       "      <td>315125497.0</td>\n",
       "      <td>1.444667e+09</td>\n",
       "      <td>6.115106e+08</td>\n",
       "      <td>0.0</td>\n",
       "      <td>2.643455e+09</td>\n",
       "      <td>6.921982e+08</td>\n",
       "      <td>7.650714e+10</td>\n",
       "      <td>0.0</td>\n",
       "      <td>8.148748e+07</td>\n",
       "      <td>2.121685e+10</td>\n",
       "    </tr>\n",
       "    <tr>\n",
       "      <th>31</th>\n",
       "      <td>18066.0</td>\n",
       "      <td>13454035.0</td>\n",
       "      <td>1.204596e+09</td>\n",
       "      <td>4.793448e+08</td>\n",
       "      <td>86587074.0</td>\n",
       "      <td>2.850423e+09</td>\n",
       "      <td>1.989441e+08</td>\n",
       "      <td>8.945263e+10</td>\n",
       "      <td>0.0</td>\n",
       "      <td>0.000000e+00</td>\n",
       "      <td>2.174150e+10</td>\n",
       "    </tr>\n",
       "    <tr>\n",
       "      <th>32</th>\n",
       "      <td>0.0</td>\n",
       "      <td>9118301.0</td>\n",
       "      <td>1.374734e+09</td>\n",
       "      <td>5.919861e+08</td>\n",
       "      <td>0.0</td>\n",
       "      <td>5.516522e+09</td>\n",
       "      <td>0.000000e+00</td>\n",
       "      <td>7.335859e+10</td>\n",
       "      <td>234891520.0</td>\n",
       "      <td>3.941544e+10</td>\n",
       "      <td>3.136882e+10</td>\n",
       "    </tr>\n",
       "    <tr>\n",
       "      <th>33</th>\n",
       "      <td>0.0</td>\n",
       "      <td>2973390.0</td>\n",
       "      <td>1.873354e+09</td>\n",
       "      <td>8.621252e+08</td>\n",
       "      <td>0.0</td>\n",
       "      <td>5.249106e+09</td>\n",
       "      <td>0.000000e+00</td>\n",
       "      <td>9.778947e+10</td>\n",
       "      <td>0.0</td>\n",
       "      <td>0.000000e+00</td>\n",
       "      <td>2.706838e+10</td>\n",
       "    </tr>\n",
       "    <tr>\n",
       "      <th>34</th>\n",
       "      <td>55752.0</td>\n",
       "      <td>57293010.0</td>\n",
       "      <td>9.117198e+09</td>\n",
       "      <td>6.136031e+08</td>\n",
       "      <td>0.0</td>\n",
       "      <td>1.833656e+10</td>\n",
       "      <td>1.205597e+09</td>\n",
       "      <td>5.564838e+11</td>\n",
       "      <td>0.0</td>\n",
       "      <td>0.000000e+00</td>\n",
       "      <td>2.390122e+10</td>\n",
       "    </tr>\n",
       "    <tr>\n",
       "      <th>35</th>\n",
       "      <td>49789.0</td>\n",
       "      <td>0.0</td>\n",
       "      <td>1.760939e+09</td>\n",
       "      <td>1.094521e+09</td>\n",
       "      <td>35164263.0</td>\n",
       "      <td>5.227180e+09</td>\n",
       "      <td>1.453077e+09</td>\n",
       "      <td>1.089028e+11</td>\n",
       "      <td>507531607.0</td>\n",
       "      <td>5.471344e+10</td>\n",
       "      <td>6.792616e+10</td>\n",
       "    </tr>\n",
       "    <tr>\n",
       "      <th>36</th>\n",
       "      <td>0.0</td>\n",
       "      <td>0.0</td>\n",
       "      <td>1.303150e+09</td>\n",
       "      <td>4.924695e+08</td>\n",
       "      <td>0.0</td>\n",
       "      <td>4.288226e+09</td>\n",
       "      <td>0.000000e+00</td>\n",
       "      <td>5.975710e+10</td>\n",
       "      <td>0.0</td>\n",
       "      <td>0.000000e+00</td>\n",
       "      <td>1.809790e+10</td>\n",
       "    </tr>\n",
       "    <tr>\n",
       "      <th>37</th>\n",
       "      <td>0.0</td>\n",
       "      <td>0.0</td>\n",
       "      <td>1.129713e+09</td>\n",
       "      <td>4.409600e+08</td>\n",
       "      <td>0.0</td>\n",
       "      <td>4.430002e+09</td>\n",
       "      <td>6.556990e+05</td>\n",
       "      <td>8.653444e+10</td>\n",
       "      <td>0.0</td>\n",
       "      <td>0.000000e+00</td>\n",
       "      <td>4.961550e+10</td>\n",
       "    </tr>\n",
       "  </tbody>\n",
       "</table>\n",
       "</div>"
      ],
      "text/plain": [
       "           0            1             2             3           4   \\\n",
       "0   5363860.0          0.0  1.303150e+09  4.924695e+08         0.0   \n",
       "1         0.0    7300072.0  1.129713e+09  4.409600e+08         0.0   \n",
       "2         0.0   13867563.0  1.261419e+09  4.208694e+08         0.0   \n",
       "3         0.0    1324407.0  1.322120e+09  7.216733e+08         0.0   \n",
       "4    388691.0    2241126.0  8.809684e+08  4.594114e+08  21999419.0   \n",
       "5         0.0   17200000.0  5.370869e+09  4.364447e+08         0.0   \n",
       "6         0.0          0.0  1.444667e+09  6.115106e+08         0.0   \n",
       "7         0.0   13454035.0  1.204596e+09  4.793448e+08         0.0   \n",
       "8         0.0    9118301.0  1.374734e+09  5.919861e+08  29273853.0   \n",
       "9    305453.0    2973390.0  1.873354e+09  8.621252e+08         0.0   \n",
       "10        0.0   57293010.0  9.117198e+09  6.136031e+08         0.0   \n",
       "11        0.0    4424333.0  1.760939e+09  1.094521e+09  35164263.0   \n",
       "12        0.0     555657.0  1.303150e+09  4.924695e+08         0.0   \n",
       "13        0.0    7300072.0  1.129713e+09  4.409600e+08  75453531.0   \n",
       "14        0.0   13867563.0  1.261419e+09  4.208694e+08         0.0   \n",
       "15   166960.0    1324407.0  1.322120e+09  7.216733e+08         0.0   \n",
       "16   388691.0    2241126.0  8.809684e+08  4.594114e+08  21999419.0   \n",
       "17        0.0   17200000.0  5.370869e+09  4.364447e+08         0.0   \n",
       "18        0.0  315125497.0  1.444667e+09  6.115106e+08         0.0   \n",
       "19        0.0   13454035.0  1.204596e+09  4.793448e+08         0.0   \n",
       "20        0.0    9118301.0  1.374734e+09  5.919861e+08         0.0   \n",
       "21   305453.0    2973390.0  1.873354e+09  8.621252e+08         0.0   \n",
       "22        0.0   57293010.0  9.117198e+09  6.136031e+08         0.0   \n",
       "23        0.0    4424333.0  1.760939e+09  1.094521e+09  35164263.0   \n",
       "24        0.0     555657.0  1.303150e+09  4.924695e+08         0.0   \n",
       "25        0.0    7300072.0  1.129713e+09  4.409600e+08         0.0   \n",
       "26        0.0   13867563.0  1.261419e+09  4.208694e+08         0.0   \n",
       "27        0.0    1324407.0  1.322120e+09  7.216733e+08         0.0   \n",
       "28        0.0    2241126.0  8.809684e+08  4.594114e+08         0.0   \n",
       "29        0.0          0.0  5.370869e+09  4.364447e+08         0.0   \n",
       "30        0.0  315125497.0  1.444667e+09  6.115106e+08         0.0   \n",
       "31    18066.0   13454035.0  1.204596e+09  4.793448e+08  86587074.0   \n",
       "32        0.0    9118301.0  1.374734e+09  5.919861e+08         0.0   \n",
       "33        0.0    2973390.0  1.873354e+09  8.621252e+08         0.0   \n",
       "34    55752.0   57293010.0  9.117198e+09  6.136031e+08         0.0   \n",
       "35    49789.0          0.0  1.760939e+09  1.094521e+09  35164263.0   \n",
       "36        0.0          0.0  1.303150e+09  4.924695e+08         0.0   \n",
       "37        0.0          0.0  1.129713e+09  4.409600e+08         0.0   \n",
       "\n",
       "              5             6             7            8             9   \\\n",
       "0   4.288226e+09  2.088984e+07  5.975710e+10          0.0  0.000000e+00   \n",
       "1   4.430002e+09  0.000000e+00  8.653444e+10          0.0  0.000000e+00   \n",
       "2   5.226320e+09  0.000000e+00  6.968537e+10  133181704.0  2.317853e+10   \n",
       "3   4.157749e+09  0.000000e+00  7.640161e+10          0.0  6.320590e+05   \n",
       "4   3.364891e+09  5.427332e+09  4.940677e+10          0.0  0.000000e+00   \n",
       "5   1.805936e+10  0.000000e+00  2.652726e+11  114869789.0  1.971609e+10   \n",
       "6   2.643455e+09  0.000000e+00  7.650714e+10          0.0  0.000000e+00   \n",
       "7   2.850423e+09  0.000000e+00  8.945263e+10          0.0  0.000000e+00   \n",
       "8   5.516522e+09  0.000000e+00  7.335859e+10  234891520.0  3.941544e+10   \n",
       "9   5.249106e+09  6.864835e+09  9.778947e+10          0.0  3.166302e+07   \n",
       "10  1.833656e+10  0.000000e+00  5.564838e+11          0.0  0.000000e+00   \n",
       "11  5.227180e+09  0.000000e+00  1.089028e+11  507531607.0  5.471344e+10   \n",
       "12  4.288226e+09  0.000000e+00  5.975710e+10          0.0  0.000000e+00   \n",
       "13  4.430002e+09  0.000000e+00  8.653444e+10          0.0  0.000000e+00   \n",
       "14  5.226320e+09  0.000000e+00  6.968537e+10  133181704.0  2.317853e+10   \n",
       "15  4.157749e+09  6.857077e+08  7.640161e+10    2106884.0  0.000000e+00   \n",
       "16  3.364891e+09  5.427332e+09  4.940677e+10          0.0  0.000000e+00   \n",
       "17  1.805936e+10  0.000000e+00  2.652726e+11  114869789.0  1.971609e+10   \n",
       "18  2.643455e+09  0.000000e+00  7.650714e+10          0.0  0.000000e+00   \n",
       "19  2.850423e+09  0.000000e+00  8.945263e+10          0.0  0.000000e+00   \n",
       "20  5.516522e+09  0.000000e+00  7.335859e+10  234891520.0  3.941544e+10   \n",
       "21  5.249106e+09  6.864835e+09  9.778947e+10          0.0  0.000000e+00   \n",
       "22  1.833656e+10  1.205597e+09  5.564838e+11          0.0  0.000000e+00   \n",
       "23  5.227180e+09  0.000000e+00  1.089028e+11  507531607.0  5.471344e+10   \n",
       "24  4.288226e+09  0.000000e+00  5.975710e+10          0.0  0.000000e+00   \n",
       "25  4.430002e+09  0.000000e+00  8.653444e+10          0.0  0.000000e+00   \n",
       "26  5.226320e+09  0.000000e+00  6.968537e+10  133181704.0  2.317853e+10   \n",
       "27  4.157749e+09  0.000000e+00  7.640161e+10          0.0  0.000000e+00   \n",
       "28  3.364891e+09  0.000000e+00  4.940677e+10          0.0  0.000000e+00   \n",
       "29  1.805936e+10  0.000000e+00  2.652726e+11  114869789.0  1.971609e+10   \n",
       "30  2.643455e+09  6.921982e+08  7.650714e+10          0.0  8.148748e+07   \n",
       "31  2.850423e+09  1.989441e+08  8.945263e+10          0.0  0.000000e+00   \n",
       "32  5.516522e+09  0.000000e+00  7.335859e+10  234891520.0  3.941544e+10   \n",
       "33  5.249106e+09  0.000000e+00  9.778947e+10          0.0  0.000000e+00   \n",
       "34  1.833656e+10  1.205597e+09  5.564838e+11          0.0  0.000000e+00   \n",
       "35  5.227180e+09  1.453077e+09  1.089028e+11  507531607.0  5.471344e+10   \n",
       "36  4.288226e+09  0.000000e+00  5.975710e+10          0.0  0.000000e+00   \n",
       "37  4.430002e+09  6.556990e+05  8.653444e+10          0.0  0.000000e+00   \n",
       "\n",
       "              10  \n",
       "0   1.809790e+10  \n",
       "1   4.961550e+10  \n",
       "2   4.906368e+10  \n",
       "3   2.512859e+10  \n",
       "4   1.329558e+10  \n",
       "5   3.211719e+10  \n",
       "6   2.121685e+10  \n",
       "7   2.174150e+10  \n",
       "8   3.136882e+10  \n",
       "9   2.706838e+10  \n",
       "10  2.390122e+10  \n",
       "11  6.792616e+10  \n",
       "12  1.809790e+10  \n",
       "13  4.961550e+10  \n",
       "14  4.906368e+10  \n",
       "15  2.512859e+10  \n",
       "16  1.329558e+10  \n",
       "17  3.211719e+10  \n",
       "18  2.121685e+10  \n",
       "19  2.174150e+10  \n",
       "20  3.136882e+10  \n",
       "21  2.706838e+10  \n",
       "22  2.390122e+10  \n",
       "23  6.792616e+10  \n",
       "24  1.809790e+10  \n",
       "25  4.961550e+10  \n",
       "26  4.906368e+10  \n",
       "27  2.512859e+10  \n",
       "28  1.329558e+10  \n",
       "29  3.211719e+10  \n",
       "30  2.121685e+10  \n",
       "31  2.174150e+10  \n",
       "32  3.136882e+10  \n",
       "33  2.706838e+10  \n",
       "34  2.390122e+10  \n",
       "35  6.792616e+10  \n",
       "36  1.809790e+10  \n",
       "37  4.961550e+10  "
      ]
     },
     "execution_count": 22,
     "metadata": {},
     "output_type": "execute_result"
    }
   ],
   "source": [
    "X"
   ]
  },
  {
   "cell_type": "code",
   "execution_count": 23,
   "metadata": {},
   "outputs": [],
   "source": [
    "X = X.copy().values"
   ]
  },
  {
   "cell_type": "code",
   "execution_count": 24,
   "metadata": {
    "collapsed": true
   },
   "outputs": [],
   "source": [
    "y = y_bymonth.SUM.copy().values"
   ]
  },
  {
   "cell_type": "markdown",
   "metadata": {},
   "source": [
    "### 2.3 Prepare date for training"
   ]
  },
  {
   "cell_type": "code",
   "execution_count": 25,
   "metadata": {},
   "outputs": [],
   "source": [
    "def resize_x_data(X, y, history=3):\n",
    "    #history is 3 months by default\n",
    "    N_MONTHS, N_ACCNTS,  = X.shape\n",
    "    new_size = (N_MONTHS - history, history * N_ACCNTS)\n",
    "    X_new = np.zeros(new_size)\n",
    "    \n",
    "    for i in range(new_size[0]):\n",
    "        for j in reversed(range(1, history+1)):\n",
    "            if j==history:\n",
    "                a = X[i,:]\n",
    "            else:\n",
    "                a = np.concatenate((a,X[i + history - j]))\n",
    "        X_new[i,:] = a\n",
    "\n",
    "    return X_new\n",
    "\n",
    "def resize_y_data(y, history=3):\n",
    "    return y[history:]"
   ]
  },
  {
   "cell_type": "code",
   "execution_count": 26,
   "metadata": {},
   "outputs": [],
   "source": [
    "X_new = resize_x_data(X, y)"
   ]
  },
  {
   "cell_type": "code",
   "execution_count": 27,
   "metadata": {},
   "outputs": [
    {
     "data": {
      "text/plain": [
       "(35, 33)"
      ]
     },
     "execution_count": 27,
     "metadata": {},
     "output_type": "execute_result"
    }
   ],
   "source": [
    "X_new.shape"
   ]
  },
  {
   "cell_type": "code",
   "execution_count": 28,
   "metadata": {},
   "outputs": [],
   "source": [
    "y_new = resize_y_data(y)"
   ]
  },
  {
   "cell_type": "code",
   "execution_count": 29,
   "metadata": {},
   "outputs": [
    {
     "data": {
      "text/plain": [
       "(35,)"
      ]
     },
     "execution_count": 29,
     "metadata": {},
     "output_type": "execute_result"
    }
   ],
   "source": [
    "y_new.shape"
   ]
  },
  {
   "cell_type": "markdown",
   "metadata": {},
   "source": [
    "## 3. Training"
   ]
  },
  {
   "cell_type": "code",
   "execution_count": 30,
   "metadata": {
    "collapsed": true
   },
   "outputs": [],
   "source": [
    "from sklearn.preprocessing import StandardScaler\n",
    "from sklearn.model_selection import train_test_split, GridSearchCV\n",
    "from sklearn.linear_model import Lasso, LassoCV\n",
    "from sklearn.svm import SVR\n",
    "from sklearn.metrics import mean_squared_error, r2_score"
   ]
  },
  {
   "cell_type": "code",
   "execution_count": 31,
   "metadata": {},
   "outputs": [],
   "source": [
    "def preprocess_data(X,y, history, test_size=0.2):\n",
    "    #resize our data\n",
    "    assert history > 0\n",
    "    X_new = resize_x_data(X,y, history)\n",
    "    y_new = resize_y_data(y, history)\n",
    "    #scale them\n",
    "    ss = StandardScaler()\n",
    "    X_ss = ss.fit_transform(X_new)\n",
    "    Y_MEAN = y_new.mean()\n",
    "    Y_STD = y_new.std()\n",
    "    y_ss = (y_new - y_new.mean())/y_new.std()\n",
    "    #split into train and test\n",
    "    X_train, X_test, y_train, y_test = train_test_split(X_ss, y_ss, test_size=test_size, shuffle=False)\n",
    "    \n",
    "    return X_train, X_test, y_train, y_test, ss, Y_MEAN, Y_STD"
   ]
  },
  {
   "cell_type": "markdown",
   "metadata": {},
   "source": [
    "#### FIX test size:"
   ]
  },
  {
   "cell_type": "code",
   "execution_count": 32,
   "metadata": {
    "collapsed": true
   },
   "outputs": [],
   "source": [
    "test_size = 0.2"
   ]
  },
  {
   "cell_type": "code",
   "execution_count": 33,
   "metadata": {},
   "outputs": [],
   "source": [
    "X_train, X_test, y_train, y_test, ss, Y_MEAN, Y_STD = preprocess_data(X, y, history=2, test_size=test_size)"
   ]
  },
  {
   "cell_type": "code",
   "execution_count": 34,
   "metadata": {
    "collapsed": true
   },
   "outputs": [],
   "source": [
    "svr_model = SVR()\n",
    "parameters_svr = {\n",
    "    'C': np.logspace(-4,4,9),\n",
    "    'kernel': ['rbf', 'sigmoid', 'linear'],\n",
    "    'degree': np.arange(5, 10),\n",
    "    'epsilon': [1e-1, 8e-2, 5e-1, 2e-1]\n",
    "}\n",
    "\n",
    "gs_clf = GridSearchCV(svr_model, parameters_svr, scoring='neg_mean_squared_error', cv=4, n_jobs=-1, verbose=5)"
   ]
  },
  {
   "cell_type": "code",
   "execution_count": 35,
   "metadata": {},
   "outputs": [
    {
     "name": "stdout",
     "output_type": "stream",
     "text": [
      "Fitting 4 folds for each of 540 candidates, totalling 2160 fits\n"
     ]
    },
    {
     "name": "stderr",
     "output_type": "stream",
     "text": [
      "[Parallel(n_jobs=-1)]: Done  10 tasks      | elapsed:    3.3s\n",
      "[Parallel(n_jobs=-1)]: Done 1107 tasks      | elapsed:    5.2s\n",
      "[Parallel(n_jobs=-1)]: Done 2160 out of 2160 | elapsed:    9.8s finished\n"
     ]
    },
    {
     "data": {
      "text/plain": [
       "GridSearchCV(cv=4, error_score='raise',\n",
       "       estimator=SVR(C=1.0, cache_size=200, coef0=0.0, degree=3, epsilon=0.1, gamma='auto',\n",
       "  kernel='rbf', max_iter=-1, shrinking=True, tol=0.001, verbose=False),\n",
       "       fit_params=None, iid=True, n_jobs=-1,\n",
       "       param_grid={'C': array([  1.00000e-04,   1.00000e-03,   1.00000e-02,   1.00000e-01,\n",
       "         1.00000e+00,   1.00000e+01,   1.00000e+02,   1.00000e+03,\n",
       "         1.00000e+04]), 'kernel': ['rbf', 'sigmoid', 'linear'], 'degree': array([5, 6, 7, 8, 9]), 'epsilon': [0.1, 0.08, 0.5, 0.2]},\n",
       "       pre_dispatch='2*n_jobs', refit=True, return_train_score=True,\n",
       "       scoring='neg_mean_squared_error', verbose=5)"
      ]
     },
     "execution_count": 35,
     "metadata": {},
     "output_type": "execute_result"
    }
   ],
   "source": [
    "gs_clf.fit(X_train, y_train)"
   ]
  },
  {
   "cell_type": "code",
   "execution_count": 36,
   "metadata": {},
   "outputs": [
    {
     "data": {
      "text/plain": [
       "{'C': 0.10000000000000001, 'degree': 5, 'epsilon': 0.1, 'kernel': 'linear'}"
      ]
     },
     "execution_count": 36,
     "metadata": {},
     "output_type": "execute_result"
    }
   ],
   "source": [
    "clf = gs_clf.best_estimator_\n",
    "gs_clf.best_params_"
   ]
  },
  {
   "cell_type": "code",
   "execution_count": 37,
   "metadata": {
    "collapsed": true
   },
   "outputs": [],
   "source": [
    "y_pred = clf.predict(X_test)"
   ]
  },
  {
   "cell_type": "code",
   "execution_count": 38,
   "metadata": {},
   "outputs": [
    {
     "name": "stdout",
     "output_type": "stream",
     "text": [
      "Training error:\t 0.627200507471\n",
      "Test error:\t 1.07999503765\n"
     ]
    }
   ],
   "source": [
    "print('Training error:\\t', -1*gs_clf.best_score_)\n",
    "print('Test error:\\t', mean_squared_error(y_test, y_pred))"
   ]
  },
  {
   "cell_type": "code",
   "execution_count": 39,
   "metadata": {},
   "outputs": [
    {
     "data": {
      "image/png": "[encoded data removed]",
      "text/plain": [
       "<matplotlib.figure.Figure at 0x20075c7bcc0>"
      ]
     },
     "metadata": {},
     "output_type": "display_data"
    }
   ],
   "source": [
    "plt.figure(figsize=(15,4))\n",
    "plt.plot(y_pred, 'ro', ms=10)\n",
    "plt.plot(y_test, 'b-', lw=1)\n",
    "plt.legend(['Pred','True'], loc='best')\n",
    "plt.ylim((-3,3))\n",
    "plt.show()"
   ]
  },
  {
   "cell_type": "markdown",
   "metadata": {},
   "source": [
    "## 4. Tuning `history` parameter"
   ]
  },
  {
   "cell_type": "code",
   "execution_count": 40,
   "metadata": {},
   "outputs": [],
   "source": [
    "def tune_history_parameter(X, y, histories, model, parameters, test_size=0.2):\n",
    "    train_errors = []\n",
    "    test_errors = []\n",
    "    min_error = 1e+9\n",
    "    \n",
    "    for i in enumerate(histories):\n",
    "        X_train, X_test, y_train, y_test, ss, Y_MEAN, Y_STD = preprocess_data(X, y, histories[i[0]], test_size=test_size)\n",
    "        gs_clf = GridSearchCV(model, parameters, scoring='neg_mean_squared_error', cv=4, n_jobs=-1, verbose=False)\n",
    "        gs_clf.fit(X_train, y_train)\n",
    "        clf = gs_clf.best_estimator_\n",
    "        train_errors.append(-1*gs_clf.best_score_)\n",
    "        y_pred = clf.predict(X_test)\n",
    "        error = mean_squared_error(y_test, y_pred)\n",
    "        test_errors.append(error)\n",
    "        \n",
    "        if i[0]==0:\n",
    "            print('Number of steps: ', len(histories))\n",
    "            best_clf = clf\n",
    "            best_params = gs_clf.best_params_\n",
    "        if (error <= min_error):\n",
    "            min_error = error\n",
    "            idx_min = i[0]\n",
    "            best_clf = clf\n",
    "            best_params = gs_clf.best_params_\n",
    "            \n",
    "        print(str(i[0]+1)+'-th step is done!')\n",
    "        print('Error: \\t', error)\n",
    "        \n",
    "    return min_error, histories[idx_min], best_clf, best_params"
   ]
  },
  {
   "cell_type": "code",
   "execution_count": 41,
   "metadata": {},
   "outputs": [
    {
     "name": "stdout",
     "output_type": "stream",
     "text": [
      "Number of steps:  5\n",
      "1-th step is done!\n",
      "Error: \t 1.25043992317\n",
      "2-th step is done!\n",
      "Error: \t 1.07999503765\n",
      "3-th step is done!\n",
      "Error: \t 1.29057652658\n",
      "4-th step is done!\n",
      "Error: \t 1.23899960659\n",
      "5-th step is done!\n",
      "Error: \t 2.03095678975\n"
     ]
    }
   ],
   "source": [
    "svr_model = SVR()\n",
    "\n",
    "parameters_svr = {\n",
    "    'C': np.logspace(-4,4,9),\n",
    "    'kernel': ['rbf', 'sigmoid', 'linear'],\n",
    "    'degree': np.arange(5, 10),\n",
    "    'epsilon': [1e-1, 8e-2, 5e-1, 2e-1]\n",
    "}\n",
    "\n",
    "histories = np.arange(1,6)\n",
    "\n",
    "min_error, best_history, best_clf, best_params = tune_history_parameter(X,y, histories, svr_model, parameters_svr, test_size=test_size)"
   ]
  },
  {
   "cell_type": "code",
   "execution_count": 42,
   "metadata": {
    "collapsed": true
   },
   "outputs": [],
   "source": [
    "X_train, X_test, y_train, y_test, ss, Y_MEAN, Y_STD = preprocess_data(X, y, best_history, test_size=test_size)"
   ]
  },
  {
   "cell_type": "code",
   "execution_count": 43,
   "metadata": {},
   "outputs": [
    {
     "data": {
      "text/plain": [
       "{'C': 0.10000000000000001, 'degree': 5, 'epsilon': 0.1, 'kernel': 'linear'}"
      ]
     },
     "execution_count": 43,
     "metadata": {},
     "output_type": "execute_result"
    }
   ],
   "source": [
    "best_params"
   ]
  },
  {
   "cell_type": "code",
   "execution_count": 44,
   "metadata": {},
   "outputs": [
    {
     "name": "stdout",
     "output_type": "stream",
     "text": [
      "Training error:\t 0.350720380212\n",
      "Test error:\t 1.07999503765\n"
     ]
    }
   ],
   "source": [
    "clf = SVR(C=best_params['C'], degree=best_params['degree'], epsilon=best_params['epsilon'], kernel=best_params['kernel'])\n",
    "clf.fit(X_train, y_train)\n",
    "y_pred = clf.predict(X_test)\n",
    "y_train_pred = clf.predict(X_train)\n",
    "train_error = mean_squared_error(y_train, y_train_pred)\n",
    "test_error = mean_squared_error(y_test, y_pred)\n",
    "print('Training error:\\t', train_error)\n",
    "print('Test error:\\t', test_error)"
   ]
  },
  {
   "cell_type": "code",
   "execution_count": 45,
   "metadata": {},
   "outputs": [
    {
     "data": {
      "image/png": "[encoded data removed]",
      "text/plain": [
       "<matplotlib.figure.Figure at 0x20075c72860>"
      ]
     },
     "metadata": {},
     "output_type": "display_data"
    }
   ],
   "source": [
    "plt.figure(figsize=(15,4))\n",
    "plt.plot(y_pred, 'ro', ms=10)\n",
    "plt.plot(y_test, 'b-', lw=1)\n",
    "plt.legend(['Pred','True'], loc='best')\n",
    "\n",
    "plt.ylim((-3,3))\n",
    "plt.show()"
   ]
  },
  {
   "cell_type": "markdown",
   "metadata": {},
   "source": [
    "## 5. Step-by-step month prediction"
   ]
  },
  {
   "cell_type": "code",
   "execution_count": 46,
   "metadata": {
    "collapsed": true
   },
   "outputs": [],
   "source": [
    "def predict_step_by_step(clf, X_train, X_test, y_train, y_test):\n",
    "    y_pred = []\n",
    "    X_test_copy = X_test.copy()\n",
    "    \n",
    "    N_MONTHS = X_test.shape[0]\n",
    "    for i in range(N_MONTHS-1):\n",
    "        x = X_test[i, :].copy()\n",
    "        #predict on the next month\n",
    "        y = clf.predict([x])\n",
    "        y_pred.append(y)\n",
    "        #change train and test data\n",
    "        X_train = np.vstack((X_train, x))\n",
    "        y_train = np.concatenate((y_train,np.array(y)))\n",
    "\n",
    "        #retrain our model\n",
    "        clf.fit(X_train, y_train)\n",
    "    #predict on the last month    \n",
    "    y = clf.predict([X_test[-1,:]])\n",
    "    y_pred.append(y)\n",
    "        \n",
    "    y_pred = np.array(y_pred)\n",
    "    return y_pred"
   ]
  },
  {
   "cell_type": "code",
   "execution_count": 47,
   "metadata": {},
   "outputs": [
    {
     "name": "stdout",
     "output_type": "stream",
     "text": [
      "Training error:\t\t\t 0.350720380212\n",
      "Test error:\t\t\t 1.07999503765\n",
      "Test step-by-step error:\t 1.08012106848\n"
     ]
    }
   ],
   "source": [
    "y_pred_sbs = predict_step_by_step(clf, X_train, X_test, y_train, y_test)\n",
    "train_error = mean_squared_error(y_train, y_train_pred)\n",
    "test_sbs_error = mean_squared_error(y_test, y_pred_sbs)\n",
    "test_error = mean_squared_error(y_test, y_pred)\n",
    "print('Training error:\\t\\t\\t', train_error)\n",
    "print('Test error:\\t\\t\\t', test_error)\n",
    "print('Test step-by-step error:\\t', test_sbs_error)"
   ]
  },
  {
   "cell_type": "code",
   "execution_count": 48,
   "metadata": {},
   "outputs": [
    {
     "data": {
      "image/png": "[encoded data removed]",
      "text/plain": [
       "<matplotlib.figure.Figure at 0x2007597ceb8>"
      ]
     },
     "metadata": {},
     "output_type": "display_data"
    }
   ],
   "source": [
    "plt.figure(figsize=(15,4))\n",
    "plt.plot(y_pred, 'ro', ms=10)\n",
    "plt.plot(y_pred_sbs, 'g*', ms=12)\n",
    "plt.plot(y_test, 'b-', lw=1)\n",
    "plt.legend(['Pred','Pred S-b-S','True'], loc='best')\n",
    "\n",
    "plt.ylim((-3,3))\n",
    "plt.show()"
   ]
  },
  {
   "cell_type": "markdown",
   "metadata": {},
   "source": [
    "#### Shift prediction on 2 months:"
   ]
  },
  {
   "cell_type": "code",
   "execution_count": 49,
   "metadata": {
    "collapsed": true
   },
   "outputs": [],
   "source": [
    "X_train_ = np.vstack((X_train[2:,:], X_test[:2,:]))\n",
    "y_train_ = np.concatenate((y_train[2:], y_test[:2]))"
   ]
  },
  {
   "cell_type": "code",
   "execution_count": 50,
   "metadata": {},
   "outputs": [
    {
     "data": {
      "text/plain": [
       "SVR(C=0.10000000000000001, cache_size=200, coef0=0.0, degree=5, epsilon=0.1,\n",
       "  gamma='auto', kernel='linear', max_iter=-1, shrinking=True, tol=0.001,\n",
       "  verbose=False)"
      ]
     },
     "execution_count": 50,
     "metadata": {},
     "output_type": "execute_result"
    }
   ],
   "source": [
    "clf.fit(X_train_,y_train_)"
   ]
  },
  {
   "cell_type": "code",
   "execution_count": 51,
   "metadata": {
    "collapsed": true
   },
   "outputs": [],
   "source": [
    "y_pred_ = clf.predict(X_test[2:,:])"
   ]
  },
  {
   "cell_type": "code",
   "execution_count": 52,
   "metadata": {
    "collapsed": true
   },
   "outputs": [],
   "source": [
    "y_test_ = y_test[2:]"
   ]
  },
  {
   "cell_type": "code",
   "execution_count": 53,
   "metadata": {},
   "outputs": [
    {
     "data": {
      "text/plain": [
       "1.3764547786225325"
      ]
     },
     "execution_count": 53,
     "metadata": {},
     "output_type": "execute_result"
    }
   ],
   "source": [
    "mean_squared_error(y_test_,y_pred_)"
   ]
  },
  {
   "cell_type": "code",
   "execution_count": 54,
   "metadata": {},
   "outputs": [
    {
     "data": {
      "image/png": "[encoded data removed]",
      "text/plain": [
       "<matplotlib.figure.Figure at 0x2007596a0f0>"
      ]
     },
     "metadata": {},
     "output_type": "display_data"
    }
   ],
   "source": [
    "plt.figure(figsize=(15,4))\n",
    "plt.plot(y_pred_, 'ro', ms=10)\n",
    "plt.plot(predict_step_by_step(clf,X_train_,X_test[2:,:], y_train_,y_test[2:]), 'g*', ms=12)\n",
    "plt.plot(y_test_, 'b-', lw=1)\n",
    "plt.legend(['Pred','Pred S-b-S','True'], loc='best')\n",
    "\n",
    "plt.ylim((-3,3))\n",
    "plt.show()"
   ]
  },
  {
   "cell_type": "code",
   "execution_count": null,
   "metadata": {
    "collapsed": true
   },
   "outputs": [],
   "source": []
  }
 ],
 "metadata": {
  "kernelspec": {
   "display_name": "Python 3",
   "language": "python",
   "name": "python3"
  },
  "language_info": {
   "codemirror_mode": {
    "name": "ipython",
    "version": 3
   },
   "file_extension": ".py",
   "mimetype": "text/x-python",
   "name": "python",
   "nbconvert_exporter": "python",
   "pygments_lexer": "ipython3",
   "version": "3.6.1"
  }
 },
 "nbformat": 4,
 "nbformat_minor": 2
}
