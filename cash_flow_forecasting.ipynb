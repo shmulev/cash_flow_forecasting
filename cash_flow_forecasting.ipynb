{
 "cells": [
  {
   "cell_type": "code",
   "execution_count": 261,
   "metadata": {
    "collapsed": true
   },
   "outputs": [],
   "source": [
    "import pandas as pd\n",
    "import sklearn as sk\n",
    "import numpy as np\n",
    "import matplotlib.pyplot as plt\n",
    "import seaborn as sns\n",
    "\n",
    "import json\n",
    "from pprint import pprint\n",
    "\n",
    "import pickle\n",
    "\n",
    "%matplotlib inline"
   ]
  },
  {
   "cell_type": "markdown",
   "metadata": {},
   "source": [
    "## 1. Load data"
   ]
  },
  {
   "cell_type": "code",
   "execution_count": 262,
   "metadata": {
    "collapsed": true
   },
   "outputs": [],
   "source": [
    "PATH_TO_XDATA = 'data/h/XDATA.TXT'\n",
    "PATH_TO_YDATA = 'data/h/YDATA.TXT'"
   ]
  },
  {
   "cell_type": "code",
   "execution_count": 263,
   "metadata": {},
   "outputs": [
    {
     "data": {
      "text/html": [
       "<div>\n",
       "<style>\n",
       "    .dataframe thead tr:only-child th {\n",
       "        text-align: right;\n",
       "    }\n",
       "\n",
       "    .dataframe thead th {\n",
       "        text-align: left;\n",
       "    }\n",
       "\n",
       "    .dataframe tbody tr th {\n",
       "        vertical-align: top;\n",
       "    }\n",
       "</style>\n",
       "<table border=\"1\" class=\"dataframe\">\n",
       "  <thead>\n",
       "    <tr style=\"text-align: right;\">\n",
       "      <th></th>\n",
       "      <th>DAT</th>\n",
       "      <th>SUM</th>\n",
       "      <th>ACCNT</th>\n",
       "    </tr>\n",
       "  </thead>\n",
       "  <tbody>\n",
       "    <tr>\n",
       "      <th>0</th>\n",
       "      <td>2017-02-28</td>\n",
       "      <td>505568.0</td>\n",
       "      <td>3802025999</td>\n",
       "    </tr>\n",
       "    <tr>\n",
       "      <th>1</th>\n",
       "      <td>2017-02-28</td>\n",
       "      <td>4991344.0</td>\n",
       "      <td>3802025999</td>\n",
       "    </tr>\n",
       "    <tr>\n",
       "      <th>2</th>\n",
       "      <td>2017-02-28</td>\n",
       "      <td>1106068.0</td>\n",
       "      <td>3802025999</td>\n",
       "    </tr>\n",
       "    <tr>\n",
       "      <th>3</th>\n",
       "      <td>2017-02-28</td>\n",
       "      <td>336101.0</td>\n",
       "      <td>3802025999</td>\n",
       "    </tr>\n",
       "    <tr>\n",
       "      <th>4</th>\n",
       "      <td>2017-02-28</td>\n",
       "      <td>34415452.0</td>\n",
       "      <td>3802025999</td>\n",
       "    </tr>\n",
       "  </tbody>\n",
       "</table>\n",
       "</div>"
      ],
      "text/plain": [
       "         DAT         SUM       ACCNT\n",
       "0 2017-02-28    505568.0  3802025999\n",
       "1 2017-02-28   4991344.0  3802025999\n",
       "2 2017-02-28   1106068.0  3802025999\n",
       "3 2017-02-28    336101.0  3802025999\n",
       "4 2017-02-28  34415452.0  3802025999"
      ]
     },
     "execution_count": 263,
     "metadata": {},
     "output_type": "execute_result"
    }
   ],
   "source": [
    "dateparser = lambda x: pd.datetime.strptime(x, '%Y%m%d')\n",
    "sumparser = lambda x: float(x[:-1])\n",
    "\n",
    "xdata = pd.read_csv(PATH_TO_XDATA, header=None, names=['DAT', 'SUM', 'ACCNT', 'MATNR','V5'],\n",
    "                    parse_dates=['DAT'], dtype = {'SUM': float, 'ACCNT': str},\n",
    "                    date_parser=dateparser, thousands='.', decimal=',')\n",
    "\n",
    "xdata.drop(['MATNR','V5'], axis=1, inplace=True)\n",
    "xdata.head()"
   ]
  },
  {
   "cell_type": "code",
   "execution_count": 264,
   "metadata": {},
   "outputs": [
    {
     "data": {
      "text/html": [
       "<div>\n",
       "<style>\n",
       "    .dataframe thead tr:only-child th {\n",
       "        text-align: right;\n",
       "    }\n",
       "\n",
       "    .dataframe thead th {\n",
       "        text-align: left;\n",
       "    }\n",
       "\n",
       "    .dataframe tbody tr th {\n",
       "        vertical-align: top;\n",
       "    }\n",
       "</style>\n",
       "<table border=\"1\" class=\"dataframe\">\n",
       "  <thead>\n",
       "    <tr style=\"text-align: right;\">\n",
       "      <th></th>\n",
       "      <th>DAT</th>\n",
       "      <th>SUM</th>\n",
       "    </tr>\n",
       "  </thead>\n",
       "  <tbody>\n",
       "    <tr>\n",
       "      <th>0</th>\n",
       "      <td>2015-06-04</td>\n",
       "      <td>19000000.0</td>\n",
       "    </tr>\n",
       "    <tr>\n",
       "      <th>1</th>\n",
       "      <td>2015-04-28</td>\n",
       "      <td>19000000.0</td>\n",
       "    </tr>\n",
       "    <tr>\n",
       "      <th>2</th>\n",
       "      <td>2016-05-10</td>\n",
       "      <td>19000000.0</td>\n",
       "    </tr>\n",
       "    <tr>\n",
       "      <th>3</th>\n",
       "      <td>2015-05-19</td>\n",
       "      <td>19000000.0</td>\n",
       "    </tr>\n",
       "    <tr>\n",
       "      <th>4</th>\n",
       "      <td>2016-04-21</td>\n",
       "      <td>19000000.0</td>\n",
       "    </tr>\n",
       "  </tbody>\n",
       "</table>\n",
       "</div>"
      ],
      "text/plain": [
       "         DAT         SUM\n",
       "0 2015-06-04  19000000.0\n",
       "1 2015-04-28  19000000.0\n",
       "2 2016-05-10  19000000.0\n",
       "3 2015-05-19  19000000.0\n",
       "4 2016-04-21  19000000.0"
      ]
     },
     "execution_count": 264,
     "metadata": {},
     "output_type": "execute_result"
    }
   ],
   "source": [
    "dateparser = lambda x: pd.datetime.strptime(x, '%Y%m%d')\n",
    "sumparser = lambda x: float(x[:-1])\n",
    "\n",
    "ydata = pd.read_csv(PATH_TO_YDATA, header=None, names=['DAT', 'SUM', 'ACCNT', 'V4','V5'],\n",
    "                    parse_dates=['DAT'], dtype = {'ACCNT': str}, converters = {'SUM': sumparser},\n",
    "                    date_parser=dateparser, thousands='.', decimal=',')\n",
    "\n",
    "ydata.drop(['ACCNT','V4', 'V5'], axis=1, inplace=True)\n",
    "ydata.head()"
   ]
  },
  {
   "cell_type": "markdown",
   "metadata": {},
   "source": [
    "## 2. Data preparation"
   ]
  },
  {
   "cell_type": "markdown",
   "metadata": {},
   "source": [
    "### 2.1 YDATA"
   ]
  },
  {
   "cell_type": "code",
   "execution_count": 265,
   "metadata": {},
   "outputs": [
    {
     "data": {
      "text/html": [
       "<div>\n",
       "<style>\n",
       "    .dataframe thead tr:only-child th {\n",
       "        text-align: right;\n",
       "    }\n",
       "\n",
       "    .dataframe thead th {\n",
       "        text-align: left;\n",
       "    }\n",
       "\n",
       "    .dataframe tbody tr th {\n",
       "        vertical-align: top;\n",
       "    }\n",
       "</style>\n",
       "<table border=\"1\" class=\"dataframe\">\n",
       "  <thead>\n",
       "    <tr style=\"text-align: right;\">\n",
       "      <th></th>\n",
       "      <th>DAT</th>\n",
       "      <th>SUM</th>\n",
       "    </tr>\n",
       "  </thead>\n",
       "  <tbody>\n",
       "    <tr>\n",
       "      <th>0</th>\n",
       "      <td>2014-01-09</td>\n",
       "      <td>25653684.72</td>\n",
       "    </tr>\n",
       "    <tr>\n",
       "      <th>1</th>\n",
       "      <td>2014-01-10</td>\n",
       "      <td>30638612.57</td>\n",
       "    </tr>\n",
       "    <tr>\n",
       "      <th>2</th>\n",
       "      <td>2014-01-13</td>\n",
       "      <td>23861993.56</td>\n",
       "    </tr>\n",
       "    <tr>\n",
       "      <th>3</th>\n",
       "      <td>2014-01-14</td>\n",
       "      <td>74091230.99</td>\n",
       "    </tr>\n",
       "    <tr>\n",
       "      <th>4</th>\n",
       "      <td>2014-01-15</td>\n",
       "      <td>39481103.71</td>\n",
       "    </tr>\n",
       "  </tbody>\n",
       "</table>\n",
       "</div>"
      ],
      "text/plain": [
       "         DAT          SUM\n",
       "0 2014-01-09  25653684.72\n",
       "1 2014-01-10  30638612.57\n",
       "2 2014-01-13  23861993.56\n",
       "3 2014-01-14  74091230.99\n",
       "4 2014-01-15  39481103.71"
      ]
     },
     "execution_count": 265,
     "metadata": {},
     "output_type": "execute_result"
    }
   ],
   "source": [
    "y_byday = ydata.groupby(by=['DAT']).sum().reset_index()\n",
    "y_byday.head()"
   ]
  },
  {
   "cell_type": "markdown",
   "metadata": {},
   "source": [
    "Split date into year_month/day:"
   ]
  },
  {
   "cell_type": "code",
   "execution_count": 266,
   "metadata": {},
   "outputs": [
    {
     "data": {
      "text/html": [
       "<div>\n",
       "<style>\n",
       "    .dataframe thead tr:only-child th {\n",
       "        text-align: right;\n",
       "    }\n",
       "\n",
       "    .dataframe thead th {\n",
       "        text-align: left;\n",
       "    }\n",
       "\n",
       "    .dataframe tbody tr th {\n",
       "        vertical-align: top;\n",
       "    }\n",
       "</style>\n",
       "<table border=\"1\" class=\"dataframe\">\n",
       "  <thead>\n",
       "    <tr style=\"text-align: right;\">\n",
       "      <th></th>\n",
       "      <th>DAY</th>\n",
       "      <th>MONTH</th>\n",
       "      <th>YEAR</th>\n",
       "      <th>SUM</th>\n",
       "    </tr>\n",
       "  </thead>\n",
       "  <tbody>\n",
       "    <tr>\n",
       "      <th>0</th>\n",
       "      <td>9</td>\n",
       "      <td>1</td>\n",
       "      <td>2014</td>\n",
       "      <td>25653684.72</td>\n",
       "    </tr>\n",
       "    <tr>\n",
       "      <th>1</th>\n",
       "      <td>10</td>\n",
       "      <td>1</td>\n",
       "      <td>2014</td>\n",
       "      <td>30638612.57</td>\n",
       "    </tr>\n",
       "    <tr>\n",
       "      <th>2</th>\n",
       "      <td>13</td>\n",
       "      <td>1</td>\n",
       "      <td>2014</td>\n",
       "      <td>23861993.56</td>\n",
       "    </tr>\n",
       "    <tr>\n",
       "      <th>3</th>\n",
       "      <td>14</td>\n",
       "      <td>1</td>\n",
       "      <td>2014</td>\n",
       "      <td>74091230.99</td>\n",
       "    </tr>\n",
       "    <tr>\n",
       "      <th>4</th>\n",
       "      <td>15</td>\n",
       "      <td>1</td>\n",
       "      <td>2014</td>\n",
       "      <td>39481103.71</td>\n",
       "    </tr>\n",
       "  </tbody>\n",
       "</table>\n",
       "</div>"
      ],
      "text/plain": [
       "   DAY  MONTH  YEAR          SUM\n",
       "0    9      1  2014  25653684.72\n",
       "1   10      1  2014  30638612.57\n",
       "2   13      1  2014  23861993.56\n",
       "3   14      1  2014  74091230.99\n",
       "4   15      1  2014  39481103.71"
      ]
     },
     "execution_count": 266,
     "metadata": {},
     "output_type": "execute_result"
    }
   ],
   "source": [
    "y_byday['DAY'] = [date.day for date in y_byday.DAT]\n",
    "y_byday['MONTH'] = [date.month for date in y_byday.DAT]\n",
    "y_byday['YEAR'] = [date.year for date in y_byday.DAT]\n",
    "y_byday.drop(['DAT'],axis=1, inplace=True)\n",
    "y_byday = y_byday[['DAY','MONTH','YEAR', 'SUM']] \n",
    "y_byday.head()"
   ]
  },
  {
   "cell_type": "code",
   "execution_count": 267,
   "metadata": {
    "collapsed": true
   },
   "outputs": [],
   "source": [
    "y_bymonth = y_byday.groupby(by=['YEAR','MONTH']).sum().reset_index()\n",
    "y_bymonth.drop(['DAY'], axis=1, inplace=True)"
   ]
  },
  {
   "cell_type": "markdown",
   "metadata": {},
   "source": [
    "# <font color=\"red\"> Sum for grouped by YEAR:</font>"
   ]
  },
  {
   "cell_type": "code",
   "execution_count": 268,
   "metadata": {},
   "outputs": [
    {
     "data": {
      "text/html": [
       "<div>\n",
       "<style>\n",
       "    .dataframe thead tr:only-child th {\n",
       "        text-align: right;\n",
       "    }\n",
       "\n",
       "    .dataframe thead th {\n",
       "        text-align: left;\n",
       "    }\n",
       "\n",
       "    .dataframe tbody tr th {\n",
       "        vertical-align: top;\n",
       "    }\n",
       "</style>\n",
       "<table border=\"1\" class=\"dataframe\">\n",
       "  <thead>\n",
       "    <tr style=\"text-align: right;\">\n",
       "      <th></th>\n",
       "      <th>YEAR</th>\n",
       "      <th>SUM</th>\n",
       "    </tr>\n",
       "  </thead>\n",
       "  <tbody>\n",
       "    <tr>\n",
       "      <th>0</th>\n",
       "      <td>2014</td>\n",
       "      <td>2.194844e+10</td>\n",
       "    </tr>\n",
       "    <tr>\n",
       "      <th>1</th>\n",
       "      <td>2015</td>\n",
       "      <td>3.032355e+10</td>\n",
       "    </tr>\n",
       "    <tr>\n",
       "      <th>2</th>\n",
       "      <td>2016</td>\n",
       "      <td>4.284977e+10</td>\n",
       "    </tr>\n",
       "    <tr>\n",
       "      <th>3</th>\n",
       "      <td>2017</td>\n",
       "      <td>8.683614e+09</td>\n",
       "    </tr>\n",
       "  </tbody>\n",
       "</table>\n",
       "</div>"
      ],
      "text/plain": [
       "   YEAR           SUM\n",
       "0  2014  2.194844e+10\n",
       "1  2015  3.032355e+10\n",
       "2  2016  4.284977e+10\n",
       "3  2017  8.683614e+09"
      ]
     },
     "execution_count": 268,
     "metadata": {},
     "output_type": "execute_result"
    }
   ],
   "source": [
    "y_byyear = y_byday.groupby(by=['YEAR']).sum().reset_index()\n",
    "y_byyear.drop(['DAY','MONTH'], axis=1, inplace=True)\n",
    "y_byyear"
   ]
  },
  {
   "cell_type": "markdown",
   "metadata": {},
   "source": [
    "#### Drop 3-th month of 2017 year, cause in XDATA we have only data from 2014-01 -> 2017-02"
   ]
  },
  {
   "cell_type": "code",
   "execution_count": 269,
   "metadata": {
    "collapsed": true
   },
   "outputs": [],
   "source": [
    "y_bymonth.drop(y_bymonth[(y_bymonth.YEAR == 2017) & (y_bymonth.MONTH == 3)].index, axis=0, inplace=True)"
   ]
  },
  {
   "cell_type": "code",
   "execution_count": 270,
   "metadata": {},
   "outputs": [
    {
     "data": {
      "text/plain": [
       "(38, 3)"
      ]
     },
     "execution_count": 270,
     "metadata": {},
     "output_type": "execute_result"
    }
   ],
   "source": [
    "y_bymonth.shape"
   ]
  },
  {
   "cell_type": "markdown",
   "metadata": {},
   "source": [
    "### 2.2 XDATA"
   ]
  },
  {
   "cell_type": "code",
   "execution_count": 271,
   "metadata": {
    "scrolled": true
   },
   "outputs": [
    {
     "data": {
      "text/html": [
       "<div>\n",
       "<style>\n",
       "    .dataframe thead tr:only-child th {\n",
       "        text-align: right;\n",
       "    }\n",
       "\n",
       "    .dataframe thead th {\n",
       "        text-align: left;\n",
       "    }\n",
       "\n",
       "    .dataframe tbody tr th {\n",
       "        vertical-align: top;\n",
       "    }\n",
       "</style>\n",
       "<table border=\"1\" class=\"dataframe\">\n",
       "  <thead>\n",
       "    <tr style=\"text-align: right;\">\n",
       "      <th></th>\n",
       "      <th>DAT</th>\n",
       "      <th>SUM</th>\n",
       "      <th>ACCNT</th>\n",
       "    </tr>\n",
       "  </thead>\n",
       "  <tbody>\n",
       "    <tr>\n",
       "      <th>0</th>\n",
       "      <td>2017-02-28</td>\n",
       "      <td>505568.0</td>\n",
       "      <td>3802025999</td>\n",
       "    </tr>\n",
       "    <tr>\n",
       "      <th>1</th>\n",
       "      <td>2017-02-28</td>\n",
       "      <td>4991344.0</td>\n",
       "      <td>3802025999</td>\n",
       "    </tr>\n",
       "    <tr>\n",
       "      <th>2</th>\n",
       "      <td>2017-02-28</td>\n",
       "      <td>1106068.0</td>\n",
       "      <td>3802025999</td>\n",
       "    </tr>\n",
       "    <tr>\n",
       "      <th>3</th>\n",
       "      <td>2017-02-28</td>\n",
       "      <td>336101.0</td>\n",
       "      <td>3802025999</td>\n",
       "    </tr>\n",
       "    <tr>\n",
       "      <th>4</th>\n",
       "      <td>2017-02-28</td>\n",
       "      <td>34415452.0</td>\n",
       "      <td>3802025999</td>\n",
       "    </tr>\n",
       "  </tbody>\n",
       "</table>\n",
       "</div>"
      ],
      "text/plain": [
       "         DAT         SUM       ACCNT\n",
       "0 2017-02-28    505568.0  3802025999\n",
       "1 2017-02-28   4991344.0  3802025999\n",
       "2 2017-02-28   1106068.0  3802025999\n",
       "3 2017-02-28    336101.0  3802025999\n",
       "4 2017-02-28  34415452.0  3802025999"
      ]
     },
     "execution_count": 271,
     "metadata": {},
     "output_type": "execute_result"
    }
   ],
   "source": [
    "xdata.head()"
   ]
  },
  {
   "cell_type": "code",
   "execution_count": 272,
   "metadata": {},
   "outputs": [
    {
     "data": {
      "text/html": [
       "<div>\n",
       "<style>\n",
       "    .dataframe thead tr:only-child th {\n",
       "        text-align: right;\n",
       "    }\n",
       "\n",
       "    .dataframe thead th {\n",
       "        text-align: left;\n",
       "    }\n",
       "\n",
       "    .dataframe tbody tr th {\n",
       "        vertical-align: top;\n",
       "    }\n",
       "</style>\n",
       "<table border=\"1\" class=\"dataframe\">\n",
       "  <thead>\n",
       "    <tr style=\"text-align: right;\">\n",
       "      <th></th>\n",
       "      <th>DAT</th>\n",
       "      <th>ACCNT</th>\n",
       "      <th>SUM</th>\n",
       "    </tr>\n",
       "  </thead>\n",
       "  <tbody>\n",
       "    <tr>\n",
       "      <th>0</th>\n",
       "      <td>2014-01-31</td>\n",
       "      <td>3802025063</td>\n",
       "      <td>1.441403e+08</td>\n",
       "    </tr>\n",
       "    <tr>\n",
       "      <th>1</th>\n",
       "      <td>2014-01-31</td>\n",
       "      <td>3802025999</td>\n",
       "      <td>5.297051e+09</td>\n",
       "    </tr>\n",
       "    <tr>\n",
       "      <th>2</th>\n",
       "      <td>2014-02-28</td>\n",
       "      <td>3802025063</td>\n",
       "      <td>1.153347e+08</td>\n",
       "    </tr>\n",
       "    <tr>\n",
       "      <th>3</th>\n",
       "      <td>2014-02-28</td>\n",
       "      <td>3802025999</td>\n",
       "      <td>1.297696e+10</td>\n",
       "    </tr>\n",
       "    <tr>\n",
       "      <th>4</th>\n",
       "      <td>2014-03-31</td>\n",
       "      <td>3802025063</td>\n",
       "      <td>1.713427e+08</td>\n",
       "    </tr>\n",
       "  </tbody>\n",
       "</table>\n",
       "</div>"
      ],
      "text/plain": [
       "         DAT       ACCNT           SUM\n",
       "0 2014-01-31  3802025063  1.441403e+08\n",
       "1 2014-01-31  3802025999  5.297051e+09\n",
       "2 2014-02-28  3802025063  1.153347e+08\n",
       "3 2014-02-28  3802025999  1.297696e+10\n",
       "4 2014-03-31  3802025063  1.713427e+08"
      ]
     },
     "execution_count": 272,
     "metadata": {},
     "output_type": "execute_result"
    }
   ],
   "source": [
    "x_byday = xdata.groupby(by=['DAT', 'ACCNT']).sum().reset_index()\n",
    "x_byday.head()"
   ]
  },
  {
   "cell_type": "code",
   "execution_count": 273,
   "metadata": {},
   "outputs": [
    {
     "name": "stdout",
     "output_type": "stream",
     "text": [
      "['3802025063' '3802025066' '3802025997' '3802025998' '3802025999']\n"
     ]
    }
   ],
   "source": [
    "x_accnts = np.unique(x_byday.ACCNT)\n",
    "print(x_accnts)"
   ]
  },
  {
   "cell_type": "code",
   "execution_count": 274,
   "metadata": {},
   "outputs": [
    {
     "name": "stdout",
     "output_type": "stream",
     "text": [
      "Unique dates: ['2014-01-31T00:00:00.000000000' '2014-02-28T00:00:00.000000000'\n",
      " '2014-03-31T00:00:00.000000000' '2014-04-30T00:00:00.000000000'\n",
      " '2014-05-31T00:00:00.000000000' '2014-06-30T00:00:00.000000000'\n",
      " '2014-07-31T00:00:00.000000000' '2014-08-31T00:00:00.000000000'\n",
      " '2014-09-30T00:00:00.000000000' '2014-10-31T00:00:00.000000000'\n",
      " '2014-11-30T00:00:00.000000000' '2014-12-31T00:00:00.000000000'\n",
      " '2015-01-31T00:00:00.000000000' '2015-02-28T00:00:00.000000000'\n",
      " '2015-03-31T00:00:00.000000000' '2015-04-30T00:00:00.000000000'\n",
      " '2015-05-31T00:00:00.000000000' '2015-06-30T00:00:00.000000000'\n",
      " '2015-07-31T00:00:00.000000000' '2015-08-31T00:00:00.000000000'\n",
      " '2015-09-30T00:00:00.000000000' '2015-10-31T00:00:00.000000000'\n",
      " '2015-11-30T00:00:00.000000000' '2015-12-31T00:00:00.000000000'\n",
      " '2016-01-31T00:00:00.000000000' '2016-02-29T00:00:00.000000000'\n",
      " '2016-03-31T00:00:00.000000000' '2016-04-30T00:00:00.000000000'\n",
      " '2016-05-31T00:00:00.000000000' '2016-06-30T00:00:00.000000000'\n",
      " '2016-07-31T00:00:00.000000000' '2016-08-31T00:00:00.000000000'\n",
      " '2016-09-30T00:00:00.000000000' '2016-10-31T00:00:00.000000000'\n",
      " '2016-11-30T00:00:00.000000000' '2016-12-31T00:00:00.000000000'\n",
      " '2017-01-31T00:00:00.000000000' '2017-02-28T00:00:00.000000000']\n",
      "\n",
      "Number of dates: 38\n"
     ]
    }
   ],
   "source": [
    "print('Unique dates:', np.unique(x_byday.DAT))\n",
    "print('\\nNumber of dates:', len(np.unique(x_byday.DAT)))"
   ]
  },
  {
   "cell_type": "code",
   "execution_count": 275,
   "metadata": {},
   "outputs": [
    {
     "name": "stdout",
     "output_type": "stream",
     "text": [
      "Data size:\t (113, 3)\n"
     ]
    }
   ],
   "source": [
    "print('Data size:\\t', x_byday.shape)"
   ]
  },
  {
   "cell_type": "code",
   "execution_count": 276,
   "metadata": {},
   "outputs": [
    {
     "data": {
      "image/png": "[encoded data removed]",
      "text/plain": [
       "<matplotlib.figure.Figure at 0x1afab31b4a8>"
      ]
     },
     "metadata": {},
     "output_type": "display_data"
    }
   ],
   "source": [
    "x = x_byday.DAT.copy()\n",
    "y = x_byday.SUM.copy()\n",
    "plt.figure(figsize=(8,2))\n",
    "plt.plot(x,y, 'b.', ms=10)\n",
    "plt.title('X by DAT')\n",
    "plt.grid\n",
    "plt.show()"
   ]
  },
  {
   "cell_type": "markdown",
   "metadata": {},
   "source": [
    "Split date into year_month/day:"
   ]
  },
  {
   "cell_type": "code",
   "execution_count": 277,
   "metadata": {
    "collapsed": true
   },
   "outputs": [],
   "source": [
    "x_bymonth = x_byday.copy()\n",
    "x_bymonth['MONTH'] = [date.month for date in x_bymonth.DAT]\n",
    "x_bymonth['YEAR'] = [date.year for date in x_bymonth.DAT]\n",
    "x_bymonth.drop(['DAT'],axis=1, inplace=True)\n",
    "x_bymonth = x_bymonth[['MONTH','YEAR', 'SUM','ACCNT']] "
   ]
  },
  {
   "cell_type": "code",
   "execution_count": 278,
   "metadata": {},
   "outputs": [
    {
     "data": {
      "text/plain": [
       "(113, 4)"
      ]
     },
     "execution_count": 278,
     "metadata": {},
     "output_type": "execute_result"
    }
   ],
   "source": [
    "x_bymonth.shape"
   ]
  },
  {
   "cell_type": "markdown",
   "metadata": {},
   "source": [
    "#### Resize our XDATA:"
   ]
  },
  {
   "cell_type": "code",
   "execution_count": 279,
   "metadata": {
    "scrolled": true
   },
   "outputs": [
    {
     "name": "stdout",
     "output_type": "stream",
     "text": [
      "['3802025063' '3802025066' '3802025997' '3802025998' '3802025999']\n"
     ]
    }
   ],
   "source": [
    "last_year = np.unique(y_bymonth.YEAR)[-1]\n",
    "last_month = np.unique(y_bymonth.MONTH[y_bymonth.YEAR == last_year])[-1]\n",
    "\n",
    "first_year = np.unique(y_bymonth.YEAR)[0]\n",
    "first_month = np.unique(y_bymonth.MONTH[y_bymonth.YEAR == last_year])[0]\n",
    "\n",
    "N_MONTHS = (last_year-first_year) * 12 + last_month - first_month + 1\n",
    "\n",
    "N_ACCNTS = len(x_accnts)\n",
    "print(x_accnts)"
   ]
  },
  {
   "cell_type": "code",
   "execution_count": 280,
   "metadata": {},
   "outputs": [],
   "source": [
    "X = pd.DataFrame(data=np.zeros((N_MONTHS, N_ACCNTS)), columns=np.arange(N_ACCNTS), index=np.arange(N_MONTHS))\n",
    "for accnt,i in zip(x_accnts, np.arange(N_ACCNTS)):\n",
    "    for month, year in zip(x_bymonth[x_bymonth.ACCNT == accnt].MONTH, x_bymonth[x_bymonth.ACCNT == accnt].YEAR):\n",
    "        X[i].iloc[(month-1) + 12*(year-2014)] = x_bymonth[(x_bymonth.ACCNT == accnt) & (x_bymonth.MONTH == month) & (x_bymonth.YEAR == year)].SUM.values[0]"
   ]
  },
  {
   "cell_type": "code",
   "execution_count": 281,
   "metadata": {},
   "outputs": [],
   "source": [
    "X = X.copy().values"
   ]
  },
  {
   "cell_type": "code",
   "execution_count": 282,
   "metadata": {},
   "outputs": [],
   "source": [
    "y = np.zeros((N_MONTHS,))\n",
    "for month, year in zip(y_bymonth.MONTH, y_bymonth.YEAR):\n",
    "    y[(month-1) + 12*(year-2014)] = y_bymonth[(y_bymonth.MONTH == month)  & (y_bymonth.YEAR == year)].SUM.values[0]"
   ]
  },
  {
   "cell_type": "code",
   "execution_count": 284,
   "metadata": {},
   "outputs": [],
   "source": [
    "xsum = x_bymonth.drop(['ACCNT'],axis=1).groupby(by=['YEAR','MONTH']).sum().reset_index().SUM"
   ]
  },
  {
   "cell_type": "code",
   "execution_count": 287,
   "metadata": {},
   "outputs": [
    {
     "data": {
      "image/png": "[encoded data removed]",
      "text/plain": [
       "<matplotlib.figure.Figure at 0x1afab843898>"
      ]
     },
     "metadata": {},
     "output_type": "display_data"
    },
    {
     "data": {
      "image/png": "[encoded data removed]",
      "text/plain": [
       "<matplotlib.figure.Figure at 0x1afab88a630>"
      ]
     },
     "metadata": {},
     "output_type": "display_data"
    }
   ],
   "source": [
    "#plt.subplot(211)\n",
    "plt.figure(figsize=(10,4))\n",
    "plt.plot(xsum, 'r', label='Косвенные счета')\n",
    "plt.legend()\n",
    "plt.show()\n",
    "#plt.subplot(212)\n",
    "plt.figure(figsize=(10,4))\n",
    "plt.plot(y, 'g', label='Доход')\n",
    "plt.legend()\n",
    "plt.show()"
   ]
  },
  {
   "cell_type": "markdown",
   "metadata": {},
   "source": [
    "### 2.3 Prepare date for training"
   ]
  },
  {
   "cell_type": "code",
   "execution_count": 23,
   "metadata": {
    "collapsed": true
   },
   "outputs": [],
   "source": [
    "def resize_x_data(X, y, history=3):\n",
    "    #history is 3 months by default\n",
    "    N_MONTHS, N_ACCNTS,  = X.shape\n",
    "    new_size = (N_MONTHS - history, history * N_ACCNTS)\n",
    "    X_new = np.zeros(new_size)\n",
    "    \n",
    "    for i in range(new_size[0]):\n",
    "        for j in reversed(range(1, history+1)):\n",
    "            if j==history:\n",
    "                a = X[i,:]\n",
    "            else:\n",
    "                a = np.concatenate((a,X[i + history - j]))\n",
    "        X_new[i,:] = a\n",
    "\n",
    "    return X_new\n",
    "\n",
    "def resize_y_data(y, history=3):\n",
    "    return y[history:]"
   ]
  },
  {
   "cell_type": "code",
   "execution_count": 24,
   "metadata": {
    "collapsed": true
   },
   "outputs": [],
   "source": [
    "X_new = resize_x_data(X, y)"
   ]
  },
  {
   "cell_type": "code",
   "execution_count": 25,
   "metadata": {},
   "outputs": [
    {
     "data": {
      "text/plain": [
       "(35, 15)"
      ]
     },
     "execution_count": 25,
     "metadata": {},
     "output_type": "execute_result"
    }
   ],
   "source": [
    "X_new.shape"
   ]
  },
  {
   "cell_type": "code",
   "execution_count": 26,
   "metadata": {
    "collapsed": true
   },
   "outputs": [],
   "source": [
    "y_new = resize_y_data(y)"
   ]
  },
  {
   "cell_type": "code",
   "execution_count": 27,
   "metadata": {},
   "outputs": [
    {
     "data": {
      "text/plain": [
       "(35,)"
      ]
     },
     "execution_count": 27,
     "metadata": {},
     "output_type": "execute_result"
    }
   ],
   "source": [
    "y_new.shape"
   ]
  },
  {
   "cell_type": "markdown",
   "metadata": {},
   "source": [
    "## 3. Training"
   ]
  },
  {
   "cell_type": "code",
   "execution_count": 28,
   "metadata": {
    "collapsed": true
   },
   "outputs": [],
   "source": [
    "from sklearn.preprocessing import StandardScaler\n",
    "from sklearn.model_selection import train_test_split, GridSearchCV,TimeSeriesSplit\n",
    "from sklearn.linear_model import Lasso, LassoCV\n",
    "from sklearn.svm import SVR\n",
    "from sklearn.ensemble import RandomForestRegressor\n",
    "from sklearn.metrics import mean_squared_error, r2_score"
   ]
  },
  {
   "cell_type": "code",
   "execution_count": 112,
   "metadata": {
    "collapsed": true
   },
   "outputs": [],
   "source": [
    "def preprocess_data(X,y, history, test_size=0.2):\n",
    "    #resize our data\n",
    "    assert history > 0\n",
    "    X_new = resize_x_data(X,y, history)\n",
    "    y_new = resize_y_data(y, history)\n",
    "    #scale them\n",
    "    ss = StandardScaler()\n",
    "    X_ss = ss.fit_transform(X_new)\n",
    "    Y_MEAN = y_new.mean()\n",
    "    Y_STD = y_new.std()\n",
    "    y_ss = (y_new - y_new.mean())/y_new.std()\n",
    "    #split into train and test\n",
    "    X_train, X_test, y_train, y_test = train_test_split(X_ss, y_ss, test_size=test_size, shuffle=False)\n",
    "    \n",
    "    return X_train, X_test, y_train, y_test, ss, Y_MEAN, Y_STD"
   ]
  },
  {
   "cell_type": "markdown",
   "metadata": {},
   "source": [
    "#### FIX test size:"
   ]
  },
  {
   "cell_type": "code",
   "execution_count": 244,
   "metadata": {
    "collapsed": true
   },
   "outputs": [],
   "source": [
    "test_size = 0.4"
   ]
  },
  {
   "cell_type": "code",
   "execution_count": 245,
   "metadata": {},
   "outputs": [],
   "source": [
    "X_train, X_test, y_train, y_test, ss, Y_MEAN, Y_STD = preprocess_data(X, y, history=3, test_size=test_size)"
   ]
  },
  {
   "cell_type": "markdown",
   "metadata": {},
   "source": [
    "### Time Series CV"
   ]
  },
  {
   "cell_type": "code",
   "execution_count": 254,
   "metadata": {
    "collapsed": true
   },
   "outputs": [],
   "source": [
    "rf_model = RandomForestRegressor(n_estimators=200, n_jobs=-1)\n",
    "\n",
    "parameters_rf = {\n",
    "    'max_depth': [2,3,5],\n",
    "    'min_samples_split': [2,3,4]\n",
    "}\n",
    "\n",
    "gs_clf = GridSearchCV(rf_model,parameters_rf, scoring='neg_mean_squared_error', cv=TimeSeriesSplit(n_splits=4), n_jobs = -1, verbose=5)"
   ]
  },
  {
   "cell_type": "code",
   "execution_count": 247,
   "metadata": {},
   "outputs": [],
   "source": [
    "svr_model = SVR()\n",
    "parameters_svr = {\n",
    "    'C': [1e3,1e4],\n",
    "    'kernel': ['rbf'],\n",
    "    'gamma': [3e-3],\n",
    "    'epsilon': [1e-1]\n",
    "}\n",
    "\n",
    "gs_clf = GridSearchCV(svr_model, parameters_svr, scoring='neg_mean_squared_error', cv=TimeSeriesSplit(n_splits=4), n_jobs=-1, verbose=5)"
   ]
  },
  {
   "cell_type": "code",
   "execution_count": 255,
   "metadata": {},
   "outputs": [
    {
     "name": "stdout",
     "output_type": "stream",
     "text": [
      "Fitting 4 folds for each of 9 candidates, totalling 36 fits\n"
     ]
    },
    {
     "name": "stderr",
     "output_type": "stream",
     "text": [
      "[Parallel(n_jobs=-1)]: Done  10 tasks      | elapsed:    5.3s\n",
      "[Parallel(n_jobs=-1)]: Done  36 out of  36 | elapsed:   10.7s finished\n"
     ]
    },
    {
     "data": {
      "text/plain": [
       "GridSearchCV(cv=TimeSeriesSplit(max_train_size=None, n_splits=4),\n",
       "       error_score='raise',\n",
       "       estimator=RandomForestRegressor(bootstrap=True, criterion='mse', max_depth=None,\n",
       "           max_features='auto', max_leaf_nodes=None,\n",
       "           min_impurity_decrease=0.0, min_impurity_split=None,\n",
       "           min_samples_leaf=1, min_samples_split=2,\n",
       "           min_weight_fraction_leaf=0.0, n_estimators=200, n_jobs=-1,\n",
       "           oob_score=False, random_state=None, verbose=0, warm_start=False),\n",
       "       fit_params=None, iid=True, n_jobs=-1,\n",
       "       param_grid={'max_depth': [2, 3, 5], 'min_samples_split': [2, 3, 4]},\n",
       "       pre_dispatch='2*n_jobs', refit=True, return_train_score=True,\n",
       "       scoring='neg_mean_squared_error', verbose=5)"
      ]
     },
     "execution_count": 255,
     "metadata": {},
     "output_type": "execute_result"
    }
   ],
   "source": [
    "gs_clf.fit(X_train, y_train)"
   ]
  },
  {
   "cell_type": "code",
   "execution_count": 256,
   "metadata": {},
   "outputs": [
    {
     "data": {
      "text/plain": [
       "{'max_depth': 5, 'min_samples_split': 2}"
      ]
     },
     "execution_count": 256,
     "metadata": {},
     "output_type": "execute_result"
    }
   ],
   "source": [
    "clf = gs_clf.best_estimator_\n",
    "gs_clf.best_params_\n"
   ]
  },
  {
   "cell_type": "code",
   "execution_count": 257,
   "metadata": {
    "collapsed": true
   },
   "outputs": [],
   "source": [
    "y_pred = clf.predict(X_test)"
   ]
  },
  {
   "cell_type": "code",
   "execution_count": 258,
   "metadata": {},
   "outputs": [
    {
     "name": "stdout",
     "output_type": "stream",
     "text": [
      "Training error:\t 0.642505025702\n",
      "Test error:\t 2.48567074517\n"
     ]
    }
   ],
   "source": [
    "print('Training error:\\t', -1*gs_clf.best_score_)\n",
    "print('Test error:\\t', mean_squared_error(y_test, y_pred))"
   ]
  },
  {
   "cell_type": "code",
   "execution_count": 259,
   "metadata": {},
   "outputs": [
    {
     "data": {
      "image/png": "[encoded data removed]",
      "text/plain": [
       "<matplotlib.figure.Figure at 0x1afab6eb940>"
      ]
     },
     "metadata": {},
     "output_type": "display_data"
    }
   ],
   "source": [
    "plt.figure(figsize=(15,4))\n",
    "plt.plot(clf.predict(X_train), 'ro', ms=10)\n",
    "plt.plot(y_train, 'b-', lw=1)\n",
    "plt.legend(['Pred','True'], loc='best')\n",
    "plt.ylim((-3,3))\n",
    "plt.show()"
   ]
  },
  {
   "cell_type": "code",
   "execution_count": 260,
   "metadata": {},
   "outputs": [
    {
     "data": {
      "image/png": "[encoded data removed]",
      "text/plain": [
       "<matplotlib.figure.Figure at 0x1afab6f4908>"
      ]
     },
     "metadata": {},
     "output_type": "display_data"
    }
   ],
   "source": [
    "plt.figure(figsize=(15,4))\n",
    "plt.plot(y_pred, 'ro', ms=10)\n",
    "plt.plot(y_test, 'b-', lw=1)\n",
    "plt.legend(['Pred','True'], loc='best')\n",
    "plt.ylim((-3,3))\n",
    "plt.show()"
   ]
  },
  {
   "cell_type": "markdown",
   "metadata": {},
   "source": [
    "## 4. Tuning `history` parameter"
   ]
  },
  {
   "cell_type": "code",
   "execution_count": 109,
   "metadata": {
    "collapsed": true
   },
   "outputs": [],
   "source": [
    "def tune_history_parameter(X, y, histories, model, parameters, test_size=0.2):\n",
    "    train_errors = []\n",
    "    test_errors = []\n",
    "    min_error = 1e+9\n",
    "    \n",
    "    for i in enumerate(histories):\n",
    "        X_train, X_test, y_train, y_test, ss, Y_MEAN, Y_STD = preprocess_data(X, y, histories[i[0]], test_size=test_size)\n",
    "        gs_clf = GridSearchCV(model, parameters, scoring='neg_mean_squared_error', cv=4, n_jobs=-1, verbose=False)\n",
    "        gs_clf.fit(X_train, y_train)\n",
    "        clf = gs_clf.best_estimator_\n",
    "        train_errors.append(-1*gs_clf.best_score_)\n",
    "        y_pred = clf.predict(X_test)\n",
    "        error = mean_squared_error(y_test, y_pred)\n",
    "        test_errors.append(error)\n",
    "        \n",
    "        if i[0]==0:\n",
    "            print('Number of steps: ', len(histories))\n",
    "            best_clf = clf\n",
    "            best_params = gs_clf.best_params_\n",
    "        if (error <= min_error):\n",
    "            min_error = error\n",
    "            idx_min = i[0]\n",
    "            best_clf = clf\n",
    "            best_params = gs_clf.best_params_\n",
    "            \n",
    "        print(str(i[0]+1)+'-th step is done!')\n",
    "        print('Error: \\t', error)\n",
    "        \n",
    "    return min_error, histories[idx_min], best_clf, best_params"
   ]
  },
  {
   "cell_type": "code",
   "execution_count": 110,
   "metadata": {},
   "outputs": [
    {
     "name": "stdout",
     "output_type": "stream",
     "text": [
      "Number of steps:  5\n",
      "1-th step is done!\n",
      "Error: \t 3.02483747704\n",
      "2-th step is done!\n",
      "Error: \t 2.32447520103\n",
      "3-th step is done!\n",
      "Error: \t 3.13335631057\n",
      "4-th step is done!\n",
      "Error: \t 3.187431481\n",
      "5-th step is done!\n",
      "Error: \t 3.28675481017\n"
     ]
    }
   ],
   "source": [
    "svr_model = SVR()\n",
    "\n",
    "parameters_svr = {\n",
    "    'C': np.logspace(-10,5,16),\n",
    "    'kernel': ['rbf'],\n",
    "    'gamma': np.logspace(-12, 5,18),\n",
    "    'epsilon': [0.1, 0.01, 1, 50, 100]\n",
    "}\n",
    "\n",
    "histories = np.arange(1,6)\n",
    "\n",
    "min_error, best_history, best_clf, best_params = tune_history_parameter(X,y, histories, svr_model, parameters_svr, test_size=test_size)"
   ]
  },
  {
   "cell_type": "code",
   "execution_count": 122,
   "metadata": {},
   "outputs": [],
   "source": [
    "X_train, X_test, y_train, y_test, ss, Y_MEAN, Y_STD = preprocess_data(X, y, best_history, test_size=test_size)"
   ]
  },
  {
   "cell_type": "code",
   "execution_count": 123,
   "metadata": {},
   "outputs": [
    {
     "data": {
      "text/plain": [
       "{'C': 1e-10, 'epsilon': 100, 'gamma': 9.9999999999999998e-13, 'kernel': 'rbf'}"
      ]
     },
     "execution_count": 123,
     "metadata": {},
     "output_type": "execute_result"
    }
   ],
   "source": [
    "best_params"
   ]
  },
  {
   "cell_type": "code",
   "execution_count": 124,
   "metadata": {},
   "outputs": [
    {
     "name": "stdout",
     "output_type": "stream",
     "text": [
      "Training error:\t 0.280920022404\n",
      "Test error:\t 0.180109904451\n"
     ]
    }
   ],
   "source": [
    "clf = SVR(C=best_params['C']*1e13, gamma=best_params['gamma']*3e9, kernel=best_params['kernel'])\n",
    "clf.fit(X_train, y_train)\n",
    "y_pred = clf.predict(X_test)\n",
    "y_train_pred = clf.predict(X_train)\n",
    "train_error = mean_squared_error(y_train, y_train_pred)\n",
    "test_error = mean_squared_error(y_test, y_pred)\n",
    "print('Training error:\\t', train_error)\n",
    "print('Test error:\\t', test_error)"
   ]
  },
  {
   "cell_type": "code",
   "execution_count": 125,
   "metadata": {},
   "outputs": [
    {
     "data": {
      "image/png": "[encoded data removed]",
      "text/plain": [
       "<matplotlib.figure.Figure at 0x1afab5546d8>"
      ]
     },
     "metadata": {},
     "output_type": "display_data"
    }
   ],
   "source": [
    "plt.figure(figsize=(15,4))\n",
    "plt.plot(clf.predict(X_train), 'ro', ms=10)\n",
    "plt.plot(y_train, 'b-', lw=1)\n",
    "plt.legend(['Pred','True'], loc='best')\n",
    "\n",
    "plt.ylim((-3,3))\n",
    "plt.show()"
   ]
  },
  {
   "cell_type": "code",
   "execution_count": 126,
   "metadata": {},
   "outputs": [
    {
     "data": {
      "image/png": "[encoded data removed]",
      "text/plain": [
       "<matplotlib.figure.Figure at 0x1afab442ac8>"
      ]
     },
     "metadata": {},
     "output_type": "display_data"
    }
   ],
   "source": [
    "plt.figure(figsize=(15,4))\n",
    "plt.plot(y_pred, 'ro', ms=10)\n",
    "plt.plot(y_test, 'b-', lw=1)\n",
    "plt.legend(['Pred','True'], loc='best')\n",
    "\n",
    "plt.ylim((-3,3))\n",
    "plt.show()"
   ]
  },
  {
   "cell_type": "markdown",
   "metadata": {},
   "source": [
    "## 5. Step-by-step month prediction"
   ]
  },
  {
   "cell_type": "code",
   "execution_count": 140,
   "metadata": {
    "collapsed": true
   },
   "outputs": [],
   "source": [
    "def predict_step_by_step(clf, X_train, X_test, y_train, y_test):\n",
    "    y_pred = []\n",
    "    X_test_copy = X_test.copy()\n",
    "    \n",
    "    N_MONTHS = X_test.shape[0]\n",
    "    for i in range(N_MONTHS-1):\n",
    "        x = X_test[i, :].copy()\n",
    "        #predict on the next month\n",
    "        y = clf.predict([x])\n",
    "        y_pred.append(y)\n",
    "        #change train and test data\n",
    "        X_train = np.vstack((X_train, x))\n",
    "        y_train = np.concatenate((y_train,np.array(y)))\n",
    "\n",
    "        #retrain our model\n",
    "        clf.fit(X_train, y_train)\n",
    "    #predict on the last month    \n",
    "    y = clf.predict([X_test[-1,:]])\n",
    "    y_pred.append(y)\n",
    "        \n",
    "    y_pred = np.array(y_pred)\n",
    "    return y_pred"
   ]
  },
  {
   "cell_type": "code",
   "execution_count": 141,
   "metadata": {},
   "outputs": [
    {
     "name": "stdout",
     "output_type": "stream",
     "text": [
      "Training error:\t\t\t 0.00944474527874\n",
      "Test error:\t\t\t 3.31127200338\n",
      "Test step-by-step error:\t 3.31127200338\n"
     ]
    }
   ],
   "source": [
    "y_pred_sbs = predict_step_by_step(clf, X_train, X_test, y_train, y_test)\n",
    "train_error = mean_squared_error(y_train, y_train_pred)\n",
    "test_sbs_error = mean_squared_error(y_test, y_pred_sbs)\n",
    "test_error = mean_squared_error(y_test, y_pred)\n",
    "print('Training error:\\t\\t\\t', train_error)\n",
    "print('Test error:\\t\\t\\t', test_error)\n",
    "print('Test step-by-step error:\\t', test_sbs_error)"
   ]
  },
  {
   "cell_type": "code",
   "execution_count": 142,
   "metadata": {},
   "outputs": [
    {
     "data": {
      "image/png": "[encoded data removed]",
      "text/plain": [
       "<matplotlib.figure.Figure at 0x1d73fcee898>"
      ]
     },
     "metadata": {},
     "output_type": "display_data"
    }
   ],
   "source": [
    "plt.figure(figsize=(15,4))\n",
    "plt.plot(y_pred, 'ro', ms=10)\n",
    "plt.plot(y_pred_sbs, 'g*', ms=12)\n",
    "plt.plot(y_test, 'b-', lw=1)\n",
    "plt.legend(['Pred','Pred S-b-S','True'], loc='best')\n",
    "\n",
    "plt.ylim((-3,3))\n",
    "plt.show()"
   ]
  },
  {
   "cell_type": "markdown",
   "metadata": {},
   "source": [
    "#### Shift prediction on 2 months:"
   ]
  },
  {
   "cell_type": "code",
   "execution_count": 276,
   "metadata": {
    "collapsed": true
   },
   "outputs": [],
   "source": [
    "X_train_ = np.vstack((X_train[3:,:], X_test[:3,:]))\n",
    "y_train_ = np.concatenate((y_train[3:], y_test[:3]))"
   ]
  },
  {
   "cell_type": "code",
   "execution_count": 277,
   "metadata": {},
   "outputs": [
    {
     "data": {
      "text/plain": [
       "SVR(C=1000.0, cache_size=200, coef0=0.0, degree=3, epsilon=0.1,\n",
       "  gamma=0.0030000000000000001, kernel='rbf', max_iter=-1, shrinking=True,\n",
       "  tol=0.001, verbose=False)"
      ]
     },
     "execution_count": 277,
     "metadata": {},
     "output_type": "execute_result"
    }
   ],
   "source": [
    "clf = SVR(C=best_params['C']*1e13, gamma=best_params['gamma']*3e9, kernel=best_params['kernel'])\n",
    "clf.fit(X_train_, y_train_)"
   ]
  },
  {
   "cell_type": "code",
   "execution_count": 278,
   "metadata": {},
   "outputs": [],
   "source": [
    "y_pred_ = clf.predict(X_test[3:,:])"
   ]
  },
  {
   "cell_type": "code",
   "execution_count": 279,
   "metadata": {
    "collapsed": true
   },
   "outputs": [],
   "source": [
    "y_test_ = y_test[3:]"
   ]
  },
  {
   "cell_type": "code",
   "execution_count": 280,
   "metadata": {},
   "outputs": [
    {
     "data": {
      "text/plain": [
       "0.24927680796134344"
      ]
     },
     "execution_count": 280,
     "metadata": {},
     "output_type": "execute_result"
    }
   ],
   "source": [
    "mean_squared_error(y_test_,y_pred_)"
   ]
  },
  {
   "cell_type": "code",
   "execution_count": 282,
   "metadata": {
    "scrolled": true
   },
   "outputs": [
    {
     "data": {
      "image/png": "[encoded data removed]",
      "text/plain": [
       "<matplotlib.figure.Figure at 0x1d740050be0>"
      ]
     },
     "metadata": {},
     "output_type": "display_data"
    }
   ],
   "source": [
    "plt.figure(figsize=(15,4))\n",
    "plt.plot(y_pred_, 'ro', ms=10)\n",
    "plt.plot(predict_step_by_step(clf,X_train_,X_test[3:,:], y_train_,y_test[3:]), 'g*', ms=12)\n",
    "plt.plot(y_test_, 'b-', lw=1)\n",
    "plt.legend(['Pred','Pred S-b-S','True'], loc='best')\n",
    "\n",
    "plt.ylim((-3,3))\n",
    "plt.show()"
   ]
  },
  {
   "cell_type": "code",
   "execution_count": null,
   "metadata": {
    "collapsed": true
   },
   "outputs": [],
   "source": []
  }
 ],
 "metadata": {
  "kernelspec": {
   "display_name": "Python 3",
   "language": "python",
   "name": "python3"
  },
  "language_info": {
   "codemirror_mode": {
    "name": "ipython",
    "version": 3
   },
   "file_extension": ".py",
   "mimetype": "text/x-python",
   "name": "python",
   "nbconvert_exporter": "python",
   "pygments_lexer": "ipython3",
   "version": "3.6.1"
  }
 },
 "nbformat": 4,
 "nbformat_minor": 2
}
